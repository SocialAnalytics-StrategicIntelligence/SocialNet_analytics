{
 "cells": [
  {
   "cell_type": "markdown",
   "metadata": {},
   "source": [
    "<img src=\"https://i.imgur.com/6U6q5jQ.png\"/>\n",
    "\n"
   ]
  },
  {
   "cell_type": "markdown",
   "metadata": {},
   "source": [
    "<a target=\"_blank\" href=\"https://colab.research.google.com/github/SocialAnalytics-StrategicIntelligence/SocialNet_analytics/blob/main/SocialNet_Analytics.ipynb\">\n",
    "  <img src=\"https://colab.research.google.com/assets/colab-badge.svg\" alt=\"Open In Colab\"/>\n",
    "</a>\n",
    "\n",
    "# Mining Network data\n",
    "\n",
    "We have networks available. Let's get some information out of them.\n",
    "\n",
    "* This is the data about Peruvian elites:"
   ]
  },
  {
   "cell_type": "code",
   "execution_count": 2,
   "metadata": {},
   "outputs": [],
   "source": [
    "#import wget\n",
    "import networkx as nx\n",
    "import os\n",
    "\n",
    "GitLocation=\"https://github.com/SocialAnalytics-StrategicIntelligence/SocialNet_analytics/raw/main/graphFiles/\"\n",
    "URL1 = GitLocation+\"EliteNet.graphml\"\n",
    "\n",
    "theFile1=os.path.join('graphFiles','EliteNet.graphml')\n",
    "\n",
    "\n",
    "# if os.path.exists(theFile1):\n",
    "#     os.remove(theFile1) # if exist, remove it directly\n",
    "# wget.download(URL1, theFile1) # download it to the specific path.\n",
    "eliNet=nx.read_graphml(theFile1)"
   ]
  },
  {
   "cell_type": "markdown",
   "metadata": {},
   "source": [
    "* This is the data about international trading"
   ]
  },
  {
   "cell_type": "code",
   "execution_count": 3,
   "metadata": {},
   "outputs": [],
   "source": [
    "URL2 = GitLocation+\"trade_graph.graphml\"\n",
    "\n",
    "theFile2=os.path.join('graphFiles','trade_graph.graphml')\n",
    "\n",
    "\n",
    "# if os.path.exists(theFile2):\n",
    "#     os.remove(theFile2) \n",
    "# wget.download(URL2, theFile2)\n",
    "tradeNet=nx.read_graphml(theFile2)"
   ]
  },
  {
   "cell_type": "markdown",
   "metadata": {},
   "source": [
    "* I have also prepared a network from [this article](https://www.builtinseattle.com/2018/08/06/50-seattle-tech-twitter-accounts-to-follow). There, we have a list of people considered key technological players in Seattle. The article gives their Twitter accounts, so I created a network using those accounts, the links meaning _someone follows someone on Twitter_."
   ]
  },
  {
   "cell_type": "code",
   "execution_count": 4,
   "metadata": {},
   "outputs": [
    {
     "data": {
      "text/html": [
       "\n",
       "        <iframe\n",
       "            width=\"800\"\n",
       "            height=\"350\"\n",
       "            src=\"https://docs.google.com/spreadsheets/d/e/2PACX-1vQaaNQb2frjnlt0fPSBQhp5tNydB0a9ibp98sblBn6OfvGd8vsx8cfHb4w8Cm_qC3EIeYFby_zNQBoK/pubhtml\"\n",
       "            frameborder=\"0\"\n",
       "            allowfullscreen\n",
       "            \n",
       "        ></iframe>\n",
       "        "
      ],
      "text/plain": [
       "<IPython.lib.display.IFrame at 0x107334f90>"
      ]
     },
     "execution_count": 4,
     "metadata": {},
     "output_type": "execute_result"
    }
   ],
   "source": [
    "from IPython.display import IFrame\n",
    "IFrame('https://docs.google.com/spreadsheets/d/e/2PACX-1vQaaNQb2frjnlt0fPSBQhp5tNydB0a9ibp98sblBn6OfvGd8vsx8cfHb4w8Cm_qC3EIeYFby_zNQBoK/pubhtml', 800, 350)"
   ]
  },
  {
   "cell_type": "code",
   "execution_count": 5,
   "metadata": {},
   "outputs": [],
   "source": [
    "URL3 = GitLocation+ \"seattleTop.xlsx\"\n",
    "\n",
    "import pandas as pd\n",
    "\n",
    "# reading in Pandas\n",
    "adjacency=pd.read_excel(URL3,   \n",
    "                        index_col=0,  # la columna '0' guarda los nombres\n",
    "                        sheet_name='adjacency') # la tabla tiene este nombre\n",
    "\n",
    "# creating as directed network\n",
    "topsNet=nx.from_pandas_adjacency(adjacency,create_using=nx.DiGraph)"
   ]
  },
  {
   "cell_type": "markdown",
   "metadata": {},
   "source": [
    "The analytics can be done in two ways:\n",
    "- At the network level\n",
    "- At the node level"
   ]
  },
  {
   "cell_type": "markdown",
   "metadata": {},
   "source": [
    "# Network Level measures"
   ]
  },
  {
   "cell_type": "code",
   "execution_count": 6,
   "metadata": {},
   "outputs": [
    {
     "data": {
      "text/plain": [
       "(networkx.classes.graph.Graph,\n",
       " networkx.classes.graph.Graph,\n",
       " networkx.classes.digraph.DiGraph)"
      ]
     },
     "execution_count": 6,
     "metadata": {},
     "output_type": "execute_result"
    }
   ],
   "source": [
    "type(eliNet), type(tradeNet), type(topsNet)"
   ]
  },
  {
   "cell_type": "markdown",
   "metadata": {},
   "source": [
    "## Connectedness"
   ]
  },
  {
   "cell_type": "code",
   "execution_count": 7,
   "metadata": {},
   "outputs": [
    {
     "data": {
      "text/plain": [
       "(False, True)"
      ]
     },
     "execution_count": 7,
     "metadata": {},
     "output_type": "execute_result"
    }
   ],
   "source": [
    "nx.is_connected(eliNet), nx.is_connected(tradeNet)"
   ]
  },
  {
   "cell_type": "code",
   "execution_count": 8,
   "metadata": {},
   "outputs": [
    {
     "data": {
      "text/plain": [
       "(True, False)"
      ]
     },
     "execution_count": 8,
     "metadata": {},
     "output_type": "execute_result"
    }
   ],
   "source": [
    "nx.is_weakly_connected(topsNet), nx.is_strongly_connected(topsNet)"
   ]
  },
  {
   "cell_type": "markdown",
   "metadata": {},
   "source": [
    "If the **EliteNet** is not connected, it has components:"
   ]
  },
  {
   "cell_type": "code",
   "execution_count": 9,
   "metadata": {},
   "outputs": [
    {
     "data": {
      "text/plain": [
       "8"
      ]
     },
     "execution_count": 9,
     "metadata": {},
     "output_type": "execute_result"
    }
   ],
   "source": [
    "# how many?\n",
    "numComponents=nx.number_connected_components(eliNet)\n",
    "numComponents"
   ]
  },
  {
   "cell_type": "markdown",
   "metadata": {},
   "source": [
    "Directed neworks can be weakly connected (WK) or strongly conneced (SC). Figure 1 shows the SC-components in a directed net.\n",
    "    \n",
    "<figure>\n",
    "<img src=\"https://github.com/SocialAnalytics-StrategicIntelligence/SocialNet_analytics/raw/main/picsForSession/strongly_connected.png\" style=\"width:70%\">\n",
    "<figcaption align = \"center\"> Figura 1. Strongly coonected networks (directed). \n",
    " </figcaption>\n",
    " <a href=\"https://medium.com/@jane.vdplas/https-medium-com-protium-digital-what-are-network-effects-4f1ec159b6\">Source: Medium</a>\n",
    "</figure>"
   ]
  },
  {
   "cell_type": "markdown",
   "metadata": {},
   "source": [
    "How many strongly connected components in **topsNet**?"
   ]
  },
  {
   "cell_type": "code",
   "execution_count": 10,
   "metadata": {},
   "outputs": [
    {
     "data": {
      "text/plain": [
       "4"
      ]
     },
     "execution_count": 10,
     "metadata": {},
     "output_type": "execute_result"
    }
   ],
   "source": [
    "nx.number_strongly_connected_components(topsNet)"
   ]
  },
  {
   "cell_type": "markdown",
   "metadata": {},
   "source": [
    "What nodes are in each component of _EliteNet_?:"
   ]
  },
  {
   "cell_type": "code",
   "execution_count": 11,
   "metadata": {},
   "outputs": [
    {
     "name": "stdout",
     "output_type": "stream",
     "text": [
      "{'Bustamante', 'Bentin', 'Llosa Barber', 'Graña', 'Montori', 'Romero', 'Beoutis Ledesma', 'Piazza', 'Wiese', 'Wong Lu', 'Rizo Patron', 'Picaso', 'Brescia', 'Ferreyros', 'De La Puente', 'Sotomayor', 'Montero', 'Cilloniz', 'Moreyra', 'Benavides', 'Woodman Pollit', 'Raffo', 'Fort', 'Nicolini', 'Berckemeyer', 'Onrubia', 'Michell', 'Miro Quesada'}\n",
      "{'Matos Escalada', 'Galsky', 'Batievsky Spack'}\n",
      "{'Lucioni'}\n",
      "{'Rodriguez Rodríguez'}\n",
      "{'Custer'}\n",
      "{'Ikeda'}\n",
      "{'Cogorno'}\n",
      "{'Arias Davila'}\n"
     ]
    }
   ],
   "source": [
    "for c in nx.connected_components(eliNet):\n",
    "    print (c)"
   ]
  },
  {
   "cell_type": "markdown",
   "metadata": {},
   "source": [
    "We could the component label as an attribute:"
   ]
  },
  {
   "cell_type": "code",
   "execution_count": 12,
   "metadata": {},
   "outputs": [
    {
     "data": {
      "text/plain": [
       "{'Bustamante': 0,\n",
       " 'Bentin': 0,\n",
       " 'Llosa Barber': 0,\n",
       " 'Graña': 0,\n",
       " 'Montori': 0,\n",
       " 'Romero': 0,\n",
       " 'Beoutis Ledesma': 0,\n",
       " 'Piazza': 0,\n",
       " 'Wiese': 0,\n",
       " 'Wong Lu': 0,\n",
       " 'Rizo Patron': 0,\n",
       " 'Picaso': 0,\n",
       " 'Brescia': 0,\n",
       " 'Ferreyros': 0,\n",
       " 'De La Puente': 0,\n",
       " 'Sotomayor': 0,\n",
       " 'Montero': 0,\n",
       " 'Cilloniz': 0,\n",
       " 'Moreyra': 0,\n",
       " 'Benavides': 0,\n",
       " 'Woodman Pollit': 0,\n",
       " 'Raffo': 0,\n",
       " 'Fort': 0,\n",
       " 'Nicolini': 0,\n",
       " 'Berckemeyer': 0,\n",
       " 'Onrubia': 0,\n",
       " 'Michell': 0,\n",
       " 'Miro Quesada': 0,\n",
       " 'Matos Escalada': 1,\n",
       " 'Galsky': 1,\n",
       " 'Batievsky Spack': 1,\n",
       " 'Lucioni': 2,\n",
       " 'Rodriguez Rodríguez': 3,\n",
       " 'Custer': 4,\n",
       " 'Ikeda': 5,\n",
       " 'Cogorno': 6,\n",
       " 'Arias Davila': 7}"
      ]
     },
     "execution_count": 12,
     "metadata": {},
     "output_type": "execute_result"
    }
   ],
   "source": [
    "componentAttr=dict()\n",
    "for people,component in zip(nx.connected_components(eliNet),range(8)): #range to label with an INTEGER\n",
    "    componentAttr.update({p:component for p in people} )\n",
    "componentAttr"
   ]
  },
  {
   "cell_type": "markdown",
   "metadata": {},
   "source": [
    "We use the dictionary to add the attribute:"
   ]
  },
  {
   "cell_type": "code",
   "execution_count": 13,
   "metadata": {},
   "outputs": [],
   "source": [
    "nx.set_node_attributes(eliNet, componentAttr,'component')"
   ]
  },
  {
   "cell_type": "markdown",
   "metadata": {},
   "source": [
    "A visual representation follows:"
   ]
  },
  {
   "cell_type": "code",
   "execution_count": 14,
   "metadata": {},
   "outputs": [
    {
     "data": {
      "image/png": "[encoded data removed]",
      "text/plain": [
       "<Figure size 800x800 with 1 Axes>"
      ]
     },
     "metadata": {},
     "output_type": "display_data"
    }
   ],
   "source": [
    "import matplotlib.pyplot as plt\n",
    "\n",
    "pos=nx.spring_layout(eliNet, k=0.3) \n",
    "plt.figure(figsize=(8,8))\n",
    "color_map = plt.get_cmap(\"cool\")\n",
    "valuesForColors=[n[1]['component'] for n in eliNet.nodes(data=True)]\n",
    "nx.draw(eliNet,node_color=valuesForColors,cmap=color_map,with_labels=True,edge_color='lightblue',pos=pos)"
   ]
  },
  {
   "cell_type": "code",
   "execution_count": 15,
   "metadata": {},
   "outputs": [
    {
     "data": {
      "image/png": "[encoded data removed]",
      "text/plain": [
       "<Figure size 800x800 with 1 Axes>"
      ]
     },
     "metadata": {},
     "output_type": "display_data"
    }
   ],
   "source": [
    "componentAttr=dict()\n",
    "for people,component in zip(nx.strongly_connected_components(topsNet),range(5)): \n",
    "    componentAttr.update({p:component for p in people} )\n",
    "\n",
    "nx.set_node_attributes(topsNet, componentAttr,'component')\n",
    "pos=nx.spring_layout(topsNet, k=0.3) \n",
    "plt.figure(figsize=(8,8))\n",
    "color_map = plt.get_cmap(\"cool\")\n",
    "valuesForColors=[n[1]['component'] for n in topsNet.nodes(data=True)]\n",
    "nx.draw(topsNet,node_color=valuesForColors,cmap=color_map,with_labels=True,edge_color='lightblue',pos=pos)"
   ]
  },
  {
   "cell_type": "markdown",
   "metadata": {},
   "source": [
    "### Giant component"
   ]
  },
  {
   "cell_type": "markdown",
   "metadata": {},
   "source": [
    "As we do not have ONE connected network in _EliteNet_ but several components, we can pay attention to the **Giant Component**:"
   ]
  },
  {
   "cell_type": "code",
   "execution_count": 16,
   "metadata": {},
   "outputs": [
    {
     "data": {
      "image/png": "[encoded data removed]",
      "text/plain": [
       "<Figure size 640x480 with 1 Axes>"
      ]
     },
     "metadata": {},
     "output_type": "display_data"
    }
   ],
   "source": [
    "sorted_Components = sorted(nx.connected_components(eliNet), key=len, reverse=True)\n",
    "eliNet_giant = eliNet.subgraph(sorted_Components[0])\n",
    "\n",
    "## Let's take a look at the Giant Component:\n",
    "nx.draw(eliNet_giant,with_labels=True)"
   ]
  },
  {
   "cell_type": "markdown",
   "metadata": {},
   "source": [
    "## Basic summary for Networks:\n",
    "\n",
    "- For EliteNet"
   ]
  },
  {
   "cell_type": "code",
   "execution_count": 17,
   "metadata": {},
   "outputs": [
    {
     "data": {
      "text/plain": [
       "(133, 28)"
      ]
     },
     "execution_count": 17,
     "metadata": {},
     "output_type": "execute_result"
    }
   ],
   "source": [
    "# number of edges, and nodes\n",
    "len(eliNet_giant.edges()),len(eliNet_giant.nodes())"
   ]
  },
  {
   "cell_type": "markdown",
   "metadata": {},
   "source": [
    "* For TradeNet"
   ]
  },
  {
   "cell_type": "code",
   "execution_count": 18,
   "metadata": {},
   "outputs": [
    {
     "data": {
      "text/plain": [
       "(5080, 224)"
      ]
     },
     "execution_count": 18,
     "metadata": {},
     "output_type": "execute_result"
    }
   ],
   "source": [
    "len(tradeNet.edges()),len(tradeNet.nodes())"
   ]
  },
  {
   "cell_type": "markdown",
   "metadata": {},
   "source": [
    "* For topsNet"
   ]
  },
  {
   "cell_type": "code",
   "execution_count": 19,
   "metadata": {},
   "outputs": [
    {
     "data": {
      "text/plain": [
       "(588, 46)"
      ]
     },
     "execution_count": 19,
     "metadata": {},
     "output_type": "execute_result"
    }
   ],
   "source": [
    "len(topsNet.edges()),len(topsNet.nodes())"
   ]
  },
  {
   "cell_type": "markdown",
   "metadata": {},
   "source": [
    "## Structure Exploration"
   ]
  },
  {
   "cell_type": "markdown",
   "metadata": {},
   "source": [
    "### Density"
   ]
  },
  {
   "cell_type": "markdown",
   "metadata": {},
   "source": [
    "**Density** let us know how far a network is from being 'complete'. The value ranges from 0 to 1, where 1 makes it a 'complete' network.\n",
    "\n",
    "<figure>\n",
    "<img src=\"https://github.com/SocialAnalytics-StrategicIntelligence/SocialNet_analytics/raw/main/picsForSession/density.png\" style=\"width:70%\">\n",
    "<figcaption align = \"center\"> Figure 2. Density. \n",
    " </figcaption>\n",
    " <a href=\"https://medium.com/@jane.vdplas/https-medium-com-protium-digital-what-are-network-effects-4f1ec159b6\">Source: Medium</a>\n",
    "</figure>\n",
    "\n"
   ]
  },
  {
   "cell_type": "markdown",
   "metadata": {},
   "source": [
    "What can we learn from this?"
   ]
  },
  {
   "cell_type": "code",
   "execution_count": 20,
   "metadata": {},
   "outputs": [
    {
     "data": {
      "text/plain": [
       "0.35185185185185186"
      ]
     },
     "execution_count": 20,
     "metadata": {},
     "output_type": "execute_result"
    }
   ],
   "source": [
    "nx.density(eliNet_giant)"
   ]
  },
  {
   "cell_type": "code",
   "execution_count": 21,
   "metadata": {},
   "outputs": [
    {
     "data": {
      "text/plain": [
       "0.2033952594490711"
      ]
     },
     "execution_count": 21,
     "metadata": {},
     "output_type": "execute_result"
    }
   ],
   "source": [
    "nx.density(tradeNet)"
   ]
  },
  {
   "cell_type": "code",
   "execution_count": 22,
   "metadata": {},
   "outputs": [
    {
     "data": {
      "text/plain": [
       "0.28405797101449276"
      ]
     },
     "execution_count": 22,
     "metadata": {},
     "output_type": "execute_result"
    }
   ],
   "source": [
    "nx.density(topsNet)"
   ]
  },
  {
   "cell_type": "markdown",
   "metadata": {},
   "source": [
    "### Distance\n",
    "\n",
    "The **distance** is understood as the count of  _edges_ that sepate two nodes. Since two pair of nodes can have several distances, a **geodesic** is the shortest distance between them. The Figure 3 shows geodesics:\n",
    "\n",
    "<figure>\n",
    "<img src=\"https://github.com/SocialAnalytics-StrategicIntelligence/SocialNet_analytics/raw/main/picsForSession/geodesics.png\" style=\"width:70%\">\n",
    "<figcaption align = \"center\"> Figure 3. Geodesics. \n",
    " </figcaption>\n",
    " <a href=\"https://www.wolframphysics.org/technical-introduction/limiting-behavior-and-emergent-geometry/geodesics/\" class=\"alert-link\">Source: Wolframphysics</a>\n",
    "</figure>\n",
    "\n",
    "These are the geodesics for the _eliNet_giant_:\n"
   ]
  },
  {
   "cell_type": "code",
   "execution_count": 23,
   "metadata": {},
   "outputs": [
    {
     "data": {
      "text/html": [
       "<div>\n",
       "<style scoped>\n",
       "    .dataframe tbody tr th:only-of-type {\n",
       "        vertical-align: middle;\n",
       "    }\n",
       "\n",
       "    .dataframe tbody tr th {\n",
       "        vertical-align: top;\n",
       "    }\n",
       "\n",
       "    .dataframe thead th {\n",
       "        text-align: right;\n",
       "    }\n",
       "</style>\n",
       "<table border=\"1\" class=\"dataframe\">\n",
       "  <thead>\n",
       "    <tr style=\"text-align: right;\">\n",
       "      <th></th>\n",
       "      <th>Romero</th>\n",
       "      <th>Graña</th>\n",
       "      <th>Miro Quesada</th>\n",
       "      <th>Moreyra</th>\n",
       "      <th>Fort</th>\n",
       "      <th>De La Puente</th>\n",
       "      <th>Wiese</th>\n",
       "      <th>Onrubia</th>\n",
       "      <th>Brescia</th>\n",
       "      <th>Nicolini</th>\n",
       "      <th>...</th>\n",
       "      <th>Berckemeyer</th>\n",
       "      <th>Llosa Barber</th>\n",
       "      <th>Beoutis Ledesma</th>\n",
       "      <th>Rizo Patron</th>\n",
       "      <th>Montori</th>\n",
       "      <th>Sotomayor</th>\n",
       "      <th>Cilloniz</th>\n",
       "      <th>Ferreyros</th>\n",
       "      <th>Michell</th>\n",
       "      <th>Wong Lu</th>\n",
       "    </tr>\n",
       "  </thead>\n",
       "  <tbody>\n",
       "    <tr>\n",
       "      <th>Romero</th>\n",
       "      <td>0</td>\n",
       "      <td>1</td>\n",
       "      <td>1</td>\n",
       "      <td>1</td>\n",
       "      <td>1</td>\n",
       "      <td>1</td>\n",
       "      <td>2</td>\n",
       "      <td>1</td>\n",
       "      <td>1</td>\n",
       "      <td>1</td>\n",
       "      <td>...</td>\n",
       "      <td>1</td>\n",
       "      <td>1</td>\n",
       "      <td>2</td>\n",
       "      <td>1</td>\n",
       "      <td>1</td>\n",
       "      <td>2</td>\n",
       "      <td>2</td>\n",
       "      <td>2</td>\n",
       "      <td>2</td>\n",
       "      <td>2</td>\n",
       "    </tr>\n",
       "    <tr>\n",
       "      <th>Graña</th>\n",
       "      <td>1</td>\n",
       "      <td>0</td>\n",
       "      <td>1</td>\n",
       "      <td>2</td>\n",
       "      <td>1</td>\n",
       "      <td>1</td>\n",
       "      <td>1</td>\n",
       "      <td>2</td>\n",
       "      <td>2</td>\n",
       "      <td>2</td>\n",
       "      <td>...</td>\n",
       "      <td>2</td>\n",
       "      <td>2</td>\n",
       "      <td>1</td>\n",
       "      <td>2</td>\n",
       "      <td>2</td>\n",
       "      <td>2</td>\n",
       "      <td>2</td>\n",
       "      <td>2</td>\n",
       "      <td>1</td>\n",
       "      <td>3</td>\n",
       "    </tr>\n",
       "    <tr>\n",
       "      <th>Miro Quesada</th>\n",
       "      <td>1</td>\n",
       "      <td>1</td>\n",
       "      <td>0</td>\n",
       "      <td>2</td>\n",
       "      <td>1</td>\n",
       "      <td>1</td>\n",
       "      <td>1</td>\n",
       "      <td>2</td>\n",
       "      <td>2</td>\n",
       "      <td>2</td>\n",
       "      <td>...</td>\n",
       "      <td>2</td>\n",
       "      <td>2</td>\n",
       "      <td>1</td>\n",
       "      <td>2</td>\n",
       "      <td>2</td>\n",
       "      <td>2</td>\n",
       "      <td>2</td>\n",
       "      <td>2</td>\n",
       "      <td>1</td>\n",
       "      <td>3</td>\n",
       "    </tr>\n",
       "    <tr>\n",
       "      <th>Moreyra</th>\n",
       "      <td>1</td>\n",
       "      <td>2</td>\n",
       "      <td>2</td>\n",
       "      <td>0</td>\n",
       "      <td>1</td>\n",
       "      <td>1</td>\n",
       "      <td>1</td>\n",
       "      <td>1</td>\n",
       "      <td>1</td>\n",
       "      <td>2</td>\n",
       "      <td>...</td>\n",
       "      <td>1</td>\n",
       "      <td>2</td>\n",
       "      <td>2</td>\n",
       "      <td>1</td>\n",
       "      <td>1</td>\n",
       "      <td>1</td>\n",
       "      <td>2</td>\n",
       "      <td>2</td>\n",
       "      <td>3</td>\n",
       "      <td>2</td>\n",
       "    </tr>\n",
       "    <tr>\n",
       "      <th>Fort</th>\n",
       "      <td>1</td>\n",
       "      <td>1</td>\n",
       "      <td>1</td>\n",
       "      <td>1</td>\n",
       "      <td>0</td>\n",
       "      <td>1</td>\n",
       "      <td>2</td>\n",
       "      <td>1</td>\n",
       "      <td>1</td>\n",
       "      <td>1</td>\n",
       "      <td>...</td>\n",
       "      <td>2</td>\n",
       "      <td>1</td>\n",
       "      <td>1</td>\n",
       "      <td>2</td>\n",
       "      <td>2</td>\n",
       "      <td>1</td>\n",
       "      <td>1</td>\n",
       "      <td>2</td>\n",
       "      <td>2</td>\n",
       "      <td>2</td>\n",
       "    </tr>\n",
       "    <tr>\n",
       "      <th>De La Puente</th>\n",
       "      <td>1</td>\n",
       "      <td>1</td>\n",
       "      <td>1</td>\n",
       "      <td>1</td>\n",
       "      <td>1</td>\n",
       "      <td>0</td>\n",
       "      <td>1</td>\n",
       "      <td>2</td>\n",
       "      <td>2</td>\n",
       "      <td>2</td>\n",
       "      <td>...</td>\n",
       "      <td>1</td>\n",
       "      <td>2</td>\n",
       "      <td>1</td>\n",
       "      <td>1</td>\n",
       "      <td>2</td>\n",
       "      <td>1</td>\n",
       "      <td>2</td>\n",
       "      <td>2</td>\n",
       "      <td>2</td>\n",
       "      <td>3</td>\n",
       "    </tr>\n",
       "    <tr>\n",
       "      <th>Wiese</th>\n",
       "      <td>2</td>\n",
       "      <td>1</td>\n",
       "      <td>1</td>\n",
       "      <td>1</td>\n",
       "      <td>2</td>\n",
       "      <td>1</td>\n",
       "      <td>0</td>\n",
       "      <td>2</td>\n",
       "      <td>2</td>\n",
       "      <td>2</td>\n",
       "      <td>...</td>\n",
       "      <td>1</td>\n",
       "      <td>2</td>\n",
       "      <td>1</td>\n",
       "      <td>1</td>\n",
       "      <td>2</td>\n",
       "      <td>1</td>\n",
       "      <td>2</td>\n",
       "      <td>2</td>\n",
       "      <td>2</td>\n",
       "      <td>3</td>\n",
       "    </tr>\n",
       "    <tr>\n",
       "      <th>Onrubia</th>\n",
       "      <td>1</td>\n",
       "      <td>2</td>\n",
       "      <td>2</td>\n",
       "      <td>1</td>\n",
       "      <td>1</td>\n",
       "      <td>2</td>\n",
       "      <td>2</td>\n",
       "      <td>0</td>\n",
       "      <td>1</td>\n",
       "      <td>1</td>\n",
       "      <td>...</td>\n",
       "      <td>1</td>\n",
       "      <td>1</td>\n",
       "      <td>2</td>\n",
       "      <td>2</td>\n",
       "      <td>1</td>\n",
       "      <td>2</td>\n",
       "      <td>2</td>\n",
       "      <td>2</td>\n",
       "      <td>3</td>\n",
       "      <td>2</td>\n",
       "    </tr>\n",
       "    <tr>\n",
       "      <th>Brescia</th>\n",
       "      <td>1</td>\n",
       "      <td>2</td>\n",
       "      <td>2</td>\n",
       "      <td>1</td>\n",
       "      <td>1</td>\n",
       "      <td>2</td>\n",
       "      <td>2</td>\n",
       "      <td>1</td>\n",
       "      <td>0</td>\n",
       "      <td>2</td>\n",
       "      <td>...</td>\n",
       "      <td>1</td>\n",
       "      <td>2</td>\n",
       "      <td>2</td>\n",
       "      <td>2</td>\n",
       "      <td>1</td>\n",
       "      <td>2</td>\n",
       "      <td>2</td>\n",
       "      <td>2</td>\n",
       "      <td>3</td>\n",
       "      <td>2</td>\n",
       "    </tr>\n",
       "    <tr>\n",
       "      <th>Nicolini</th>\n",
       "      <td>1</td>\n",
       "      <td>2</td>\n",
       "      <td>2</td>\n",
       "      <td>2</td>\n",
       "      <td>1</td>\n",
       "      <td>2</td>\n",
       "      <td>2</td>\n",
       "      <td>1</td>\n",
       "      <td>2</td>\n",
       "      <td>0</td>\n",
       "      <td>...</td>\n",
       "      <td>2</td>\n",
       "      <td>1</td>\n",
       "      <td>2</td>\n",
       "      <td>1</td>\n",
       "      <td>2</td>\n",
       "      <td>2</td>\n",
       "      <td>2</td>\n",
       "      <td>2</td>\n",
       "      <td>3</td>\n",
       "      <td>2</td>\n",
       "    </tr>\n",
       "    <tr>\n",
       "      <th>Montero</th>\n",
       "      <td>2</td>\n",
       "      <td>1</td>\n",
       "      <td>1</td>\n",
       "      <td>1</td>\n",
       "      <td>2</td>\n",
       "      <td>1</td>\n",
       "      <td>1</td>\n",
       "      <td>2</td>\n",
       "      <td>2</td>\n",
       "      <td>3</td>\n",
       "      <td>...</td>\n",
       "      <td>2</td>\n",
       "      <td>2</td>\n",
       "      <td>1</td>\n",
       "      <td>2</td>\n",
       "      <td>2</td>\n",
       "      <td>2</td>\n",
       "      <td>2</td>\n",
       "      <td>1</td>\n",
       "      <td>2</td>\n",
       "      <td>3</td>\n",
       "    </tr>\n",
       "    <tr>\n",
       "      <th>Picaso</th>\n",
       "      <td>2</td>\n",
       "      <td>2</td>\n",
       "      <td>2</td>\n",
       "      <td>1</td>\n",
       "      <td>1</td>\n",
       "      <td>2</td>\n",
       "      <td>2</td>\n",
       "      <td>2</td>\n",
       "      <td>2</td>\n",
       "      <td>2</td>\n",
       "      <td>...</td>\n",
       "      <td>2</td>\n",
       "      <td>2</td>\n",
       "      <td>2</td>\n",
       "      <td>2</td>\n",
       "      <td>2</td>\n",
       "      <td>1</td>\n",
       "      <td>1</td>\n",
       "      <td>2</td>\n",
       "      <td>3</td>\n",
       "      <td>3</td>\n",
       "    </tr>\n",
       "    <tr>\n",
       "      <th>Bentin</th>\n",
       "      <td>1</td>\n",
       "      <td>2</td>\n",
       "      <td>2</td>\n",
       "      <td>1</td>\n",
       "      <td>1</td>\n",
       "      <td>2</td>\n",
       "      <td>2</td>\n",
       "      <td>1</td>\n",
       "      <td>1</td>\n",
       "      <td>1</td>\n",
       "      <td>...</td>\n",
       "      <td>1</td>\n",
       "      <td>1</td>\n",
       "      <td>2</td>\n",
       "      <td>2</td>\n",
       "      <td>1</td>\n",
       "      <td>2</td>\n",
       "      <td>2</td>\n",
       "      <td>1</td>\n",
       "      <td>3</td>\n",
       "      <td>1</td>\n",
       "    </tr>\n",
       "    <tr>\n",
       "      <th>Benavides</th>\n",
       "      <td>1</td>\n",
       "      <td>1</td>\n",
       "      <td>1</td>\n",
       "      <td>2</td>\n",
       "      <td>1</td>\n",
       "      <td>1</td>\n",
       "      <td>2</td>\n",
       "      <td>2</td>\n",
       "      <td>2</td>\n",
       "      <td>2</td>\n",
       "      <td>...</td>\n",
       "      <td>2</td>\n",
       "      <td>2</td>\n",
       "      <td>2</td>\n",
       "      <td>2</td>\n",
       "      <td>2</td>\n",
       "      <td>2</td>\n",
       "      <td>2</td>\n",
       "      <td>2</td>\n",
       "      <td>2</td>\n",
       "      <td>3</td>\n",
       "    </tr>\n",
       "    <tr>\n",
       "      <th>Bustamante</th>\n",
       "      <td>1</td>\n",
       "      <td>1</td>\n",
       "      <td>1</td>\n",
       "      <td>1</td>\n",
       "      <td>1</td>\n",
       "      <td>1</td>\n",
       "      <td>2</td>\n",
       "      <td>2</td>\n",
       "      <td>2</td>\n",
       "      <td>2</td>\n",
       "      <td>...</td>\n",
       "      <td>2</td>\n",
       "      <td>2</td>\n",
       "      <td>2</td>\n",
       "      <td>2</td>\n",
       "      <td>1</td>\n",
       "      <td>2</td>\n",
       "      <td>1</td>\n",
       "      <td>1</td>\n",
       "      <td>2</td>\n",
       "      <td>3</td>\n",
       "    </tr>\n",
       "    <tr>\n",
       "      <th>Woodman Pollit</th>\n",
       "      <td>1</td>\n",
       "      <td>2</td>\n",
       "      <td>2</td>\n",
       "      <td>2</td>\n",
       "      <td>1</td>\n",
       "      <td>2</td>\n",
       "      <td>2</td>\n",
       "      <td>1</td>\n",
       "      <td>2</td>\n",
       "      <td>1</td>\n",
       "      <td>...</td>\n",
       "      <td>1</td>\n",
       "      <td>1</td>\n",
       "      <td>2</td>\n",
       "      <td>2</td>\n",
       "      <td>2</td>\n",
       "      <td>2</td>\n",
       "      <td>2</td>\n",
       "      <td>2</td>\n",
       "      <td>3</td>\n",
       "      <td>2</td>\n",
       "    </tr>\n",
       "    <tr>\n",
       "      <th>Raffo</th>\n",
       "      <td>1</td>\n",
       "      <td>2</td>\n",
       "      <td>2</td>\n",
       "      <td>1</td>\n",
       "      <td>1</td>\n",
       "      <td>2</td>\n",
       "      <td>2</td>\n",
       "      <td>1</td>\n",
       "      <td>1</td>\n",
       "      <td>1</td>\n",
       "      <td>...</td>\n",
       "      <td>1</td>\n",
       "      <td>1</td>\n",
       "      <td>2</td>\n",
       "      <td>2</td>\n",
       "      <td>1</td>\n",
       "      <td>2</td>\n",
       "      <td>2</td>\n",
       "      <td>2</td>\n",
       "      <td>3</td>\n",
       "      <td>2</td>\n",
       "    </tr>\n",
       "    <tr>\n",
       "      <th>Piazza</th>\n",
       "      <td>1</td>\n",
       "      <td>1</td>\n",
       "      <td>1</td>\n",
       "      <td>2</td>\n",
       "      <td>1</td>\n",
       "      <td>1</td>\n",
       "      <td>2</td>\n",
       "      <td>2</td>\n",
       "      <td>2</td>\n",
       "      <td>2</td>\n",
       "      <td>...</td>\n",
       "      <td>2</td>\n",
       "      <td>1</td>\n",
       "      <td>1</td>\n",
       "      <td>2</td>\n",
       "      <td>2</td>\n",
       "      <td>2</td>\n",
       "      <td>2</td>\n",
       "      <td>2</td>\n",
       "      <td>2</td>\n",
       "      <td>3</td>\n",
       "    </tr>\n",
       "    <tr>\n",
       "      <th>Berckemeyer</th>\n",
       "      <td>1</td>\n",
       "      <td>2</td>\n",
       "      <td>2</td>\n",
       "      <td>1</td>\n",
       "      <td>2</td>\n",
       "      <td>1</td>\n",
       "      <td>1</td>\n",
       "      <td>1</td>\n",
       "      <td>1</td>\n",
       "      <td>2</td>\n",
       "      <td>...</td>\n",
       "      <td>0</td>\n",
       "      <td>1</td>\n",
       "      <td>2</td>\n",
       "      <td>1</td>\n",
       "      <td>1</td>\n",
       "      <td>1</td>\n",
       "      <td>2</td>\n",
       "      <td>2</td>\n",
       "      <td>3</td>\n",
       "      <td>2</td>\n",
       "    </tr>\n",
       "    <tr>\n",
       "      <th>Llosa Barber</th>\n",
       "      <td>1</td>\n",
       "      <td>2</td>\n",
       "      <td>2</td>\n",
       "      <td>2</td>\n",
       "      <td>1</td>\n",
       "      <td>2</td>\n",
       "      <td>2</td>\n",
       "      <td>1</td>\n",
       "      <td>2</td>\n",
       "      <td>1</td>\n",
       "      <td>...</td>\n",
       "      <td>1</td>\n",
       "      <td>0</td>\n",
       "      <td>1</td>\n",
       "      <td>2</td>\n",
       "      <td>2</td>\n",
       "      <td>2</td>\n",
       "      <td>2</td>\n",
       "      <td>2</td>\n",
       "      <td>3</td>\n",
       "      <td>2</td>\n",
       "    </tr>\n",
       "    <tr>\n",
       "      <th>Beoutis Ledesma</th>\n",
       "      <td>2</td>\n",
       "      <td>1</td>\n",
       "      <td>1</td>\n",
       "      <td>2</td>\n",
       "      <td>1</td>\n",
       "      <td>1</td>\n",
       "      <td>1</td>\n",
       "      <td>2</td>\n",
       "      <td>2</td>\n",
       "      <td>2</td>\n",
       "      <td>...</td>\n",
       "      <td>2</td>\n",
       "      <td>1</td>\n",
       "      <td>0</td>\n",
       "      <td>2</td>\n",
       "      <td>3</td>\n",
       "      <td>2</td>\n",
       "      <td>2</td>\n",
       "      <td>2</td>\n",
       "      <td>2</td>\n",
       "      <td>3</td>\n",
       "    </tr>\n",
       "    <tr>\n",
       "      <th>Rizo Patron</th>\n",
       "      <td>1</td>\n",
       "      <td>2</td>\n",
       "      <td>2</td>\n",
       "      <td>1</td>\n",
       "      <td>2</td>\n",
       "      <td>1</td>\n",
       "      <td>1</td>\n",
       "      <td>2</td>\n",
       "      <td>2</td>\n",
       "      <td>1</td>\n",
       "      <td>...</td>\n",
       "      <td>1</td>\n",
       "      <td>2</td>\n",
       "      <td>2</td>\n",
       "      <td>0</td>\n",
       "      <td>2</td>\n",
       "      <td>1</td>\n",
       "      <td>2</td>\n",
       "      <td>3</td>\n",
       "      <td>3</td>\n",
       "      <td>3</td>\n",
       "    </tr>\n",
       "    <tr>\n",
       "      <th>Montori</th>\n",
       "      <td>1</td>\n",
       "      <td>2</td>\n",
       "      <td>2</td>\n",
       "      <td>1</td>\n",
       "      <td>2</td>\n",
       "      <td>2</td>\n",
       "      <td>2</td>\n",
       "      <td>1</td>\n",
       "      <td>1</td>\n",
       "      <td>2</td>\n",
       "      <td>...</td>\n",
       "      <td>1</td>\n",
       "      <td>2</td>\n",
       "      <td>3</td>\n",
       "      <td>2</td>\n",
       "      <td>0</td>\n",
       "      <td>2</td>\n",
       "      <td>1</td>\n",
       "      <td>2</td>\n",
       "      <td>3</td>\n",
       "      <td>2</td>\n",
       "    </tr>\n",
       "    <tr>\n",
       "      <th>Sotomayor</th>\n",
       "      <td>2</td>\n",
       "      <td>2</td>\n",
       "      <td>2</td>\n",
       "      <td>1</td>\n",
       "      <td>1</td>\n",
       "      <td>1</td>\n",
       "      <td>1</td>\n",
       "      <td>2</td>\n",
       "      <td>2</td>\n",
       "      <td>2</td>\n",
       "      <td>...</td>\n",
       "      <td>1</td>\n",
       "      <td>2</td>\n",
       "      <td>2</td>\n",
       "      <td>1</td>\n",
       "      <td>2</td>\n",
       "      <td>0</td>\n",
       "      <td>1</td>\n",
       "      <td>3</td>\n",
       "      <td>3</td>\n",
       "      <td>3</td>\n",
       "    </tr>\n",
       "    <tr>\n",
       "      <th>Cilloniz</th>\n",
       "      <td>2</td>\n",
       "      <td>2</td>\n",
       "      <td>2</td>\n",
       "      <td>2</td>\n",
       "      <td>1</td>\n",
       "      <td>2</td>\n",
       "      <td>2</td>\n",
       "      <td>2</td>\n",
       "      <td>2</td>\n",
       "      <td>2</td>\n",
       "      <td>...</td>\n",
       "      <td>2</td>\n",
       "      <td>2</td>\n",
       "      <td>2</td>\n",
       "      <td>2</td>\n",
       "      <td>1</td>\n",
       "      <td>1</td>\n",
       "      <td>0</td>\n",
       "      <td>2</td>\n",
       "      <td>3</td>\n",
       "      <td>3</td>\n",
       "    </tr>\n",
       "    <tr>\n",
       "      <th>Ferreyros</th>\n",
       "      <td>2</td>\n",
       "      <td>2</td>\n",
       "      <td>2</td>\n",
       "      <td>2</td>\n",
       "      <td>2</td>\n",
       "      <td>2</td>\n",
       "      <td>2</td>\n",
       "      <td>2</td>\n",
       "      <td>2</td>\n",
       "      <td>2</td>\n",
       "      <td>...</td>\n",
       "      <td>2</td>\n",
       "      <td>2</td>\n",
       "      <td>2</td>\n",
       "      <td>3</td>\n",
       "      <td>2</td>\n",
       "      <td>3</td>\n",
       "      <td>2</td>\n",
       "      <td>0</td>\n",
       "      <td>3</td>\n",
       "      <td>2</td>\n",
       "    </tr>\n",
       "    <tr>\n",
       "      <th>Michell</th>\n",
       "      <td>2</td>\n",
       "      <td>1</td>\n",
       "      <td>1</td>\n",
       "      <td>3</td>\n",
       "      <td>2</td>\n",
       "      <td>2</td>\n",
       "      <td>2</td>\n",
       "      <td>3</td>\n",
       "      <td>3</td>\n",
       "      <td>3</td>\n",
       "      <td>...</td>\n",
       "      <td>3</td>\n",
       "      <td>3</td>\n",
       "      <td>2</td>\n",
       "      <td>3</td>\n",
       "      <td>3</td>\n",
       "      <td>3</td>\n",
       "      <td>3</td>\n",
       "      <td>3</td>\n",
       "      <td>0</td>\n",
       "      <td>4</td>\n",
       "    </tr>\n",
       "    <tr>\n",
       "      <th>Wong Lu</th>\n",
       "      <td>2</td>\n",
       "      <td>3</td>\n",
       "      <td>3</td>\n",
       "      <td>2</td>\n",
       "      <td>2</td>\n",
       "      <td>3</td>\n",
       "      <td>3</td>\n",
       "      <td>2</td>\n",
       "      <td>2</td>\n",
       "      <td>2</td>\n",
       "      <td>...</td>\n",
       "      <td>2</td>\n",
       "      <td>2</td>\n",
       "      <td>3</td>\n",
       "      <td>3</td>\n",
       "      <td>2</td>\n",
       "      <td>3</td>\n",
       "      <td>3</td>\n",
       "      <td>2</td>\n",
       "      <td>4</td>\n",
       "      <td>0</td>\n",
       "    </tr>\n",
       "  </tbody>\n",
       "</table>\n",
       "<p>28 rows × 28 columns</p>\n",
       "</div>"
      ],
      "text/plain": [
       "                 Romero  Graña  Miro Quesada  Moreyra  Fort  De La Puente  \\\n",
       "Romero                0      1             1        1     1             1   \n",
       "Graña                 1      0             1        2     1             1   \n",
       "Miro Quesada          1      1             0        2     1             1   \n",
       "Moreyra               1      2             2        0     1             1   \n",
       "Fort                  1      1             1        1     0             1   \n",
       "De La Puente          1      1             1        1     1             0   \n",
       "Wiese                 2      1             1        1     2             1   \n",
       "Onrubia               1      2             2        1     1             2   \n",
       "Brescia               1      2             2        1     1             2   \n",
       "Nicolini              1      2             2        2     1             2   \n",
       "Montero               2      1             1        1     2             1   \n",
       "Picaso                2      2             2        1     1             2   \n",
       "Bentin                1      2             2        1     1             2   \n",
       "Benavides             1      1             1        2     1             1   \n",
       "Bustamante            1      1             1        1     1             1   \n",
       "Woodman Pollit        1      2             2        2     1             2   \n",
       "Raffo                 1      2             2        1     1             2   \n",
       "Piazza                1      1             1        2     1             1   \n",
       "Berckemeyer           1      2             2        1     2             1   \n",
       "Llosa Barber          1      2             2        2     1             2   \n",
       "Beoutis Ledesma       2      1             1        2     1             1   \n",
       "Rizo Patron           1      2             2        1     2             1   \n",
       "Montori               1      2             2        1     2             2   \n",
       "Sotomayor             2      2             2        1     1             1   \n",
       "Cilloniz              2      2             2        2     1             2   \n",
       "Ferreyros             2      2             2        2     2             2   \n",
       "Michell               2      1             1        3     2             2   \n",
       "Wong Lu               2      3             3        2     2             3   \n",
       "\n",
       "                 Wiese  Onrubia  Brescia  Nicolini  ...  Berckemeyer  \\\n",
       "Romero               2        1        1         1  ...            1   \n",
       "Graña                1        2        2         2  ...            2   \n",
       "Miro Quesada         1        2        2         2  ...            2   \n",
       "Moreyra              1        1        1         2  ...            1   \n",
       "Fort                 2        1        1         1  ...            2   \n",
       "De La Puente         1        2        2         2  ...            1   \n",
       "Wiese                0        2        2         2  ...            1   \n",
       "Onrubia              2        0        1         1  ...            1   \n",
       "Brescia              2        1        0         2  ...            1   \n",
       "Nicolini             2        1        2         0  ...            2   \n",
       "Montero              1        2        2         3  ...            2   \n",
       "Picaso               2        2        2         2  ...            2   \n",
       "Bentin               2        1        1         1  ...            1   \n",
       "Benavides            2        2        2         2  ...            2   \n",
       "Bustamante           2        2        2         2  ...            2   \n",
       "Woodman Pollit       2        1        2         1  ...            1   \n",
       "Raffo                2        1        1         1  ...            1   \n",
       "Piazza               2        2        2         2  ...            2   \n",
       "Berckemeyer          1        1        1         2  ...            0   \n",
       "Llosa Barber         2        1        2         1  ...            1   \n",
       "Beoutis Ledesma      1        2        2         2  ...            2   \n",
       "Rizo Patron          1        2        2         1  ...            1   \n",
       "Montori              2        1        1         2  ...            1   \n",
       "Sotomayor            1        2        2         2  ...            1   \n",
       "Cilloniz             2        2        2         2  ...            2   \n",
       "Ferreyros            2        2        2         2  ...            2   \n",
       "Michell              2        3        3         3  ...            3   \n",
       "Wong Lu              3        2        2         2  ...            2   \n",
       "\n",
       "                 Llosa Barber  Beoutis Ledesma  Rizo Patron  Montori  \\\n",
       "Romero                      1                2            1        1   \n",
       "Graña                       2                1            2        2   \n",
       "Miro Quesada                2                1            2        2   \n",
       "Moreyra                     2                2            1        1   \n",
       "Fort                        1                1            2        2   \n",
       "De La Puente                2                1            1        2   \n",
       "Wiese                       2                1            1        2   \n",
       "Onrubia                     1                2            2        1   \n",
       "Brescia                     2                2            2        1   \n",
       "Nicolini                    1                2            1        2   \n",
       "Montero                     2                1            2        2   \n",
       "Picaso                      2                2            2        2   \n",
       "Bentin                      1                2            2        1   \n",
       "Benavides                   2                2            2        2   \n",
       "Bustamante                  2                2            2        1   \n",
       "Woodman Pollit              1                2            2        2   \n",
       "Raffo                       1                2            2        1   \n",
       "Piazza                      1                1            2        2   \n",
       "Berckemeyer                 1                2            1        1   \n",
       "Llosa Barber                0                1            2        2   \n",
       "Beoutis Ledesma             1                0            2        3   \n",
       "Rizo Patron                 2                2            0        2   \n",
       "Montori                     2                3            2        0   \n",
       "Sotomayor                   2                2            1        2   \n",
       "Cilloniz                    2                2            2        1   \n",
       "Ferreyros                   2                2            3        2   \n",
       "Michell                     3                2            3        3   \n",
       "Wong Lu                     2                3            3        2   \n",
       "\n",
       "                 Sotomayor  Cilloniz  Ferreyros  Michell  Wong Lu  \n",
       "Romero                   2         2          2        2        2  \n",
       "Graña                    2         2          2        1        3  \n",
       "Miro Quesada             2         2          2        1        3  \n",
       "Moreyra                  1         2          2        3        2  \n",
       "Fort                     1         1          2        2        2  \n",
       "De La Puente             1         2          2        2        3  \n",
       "Wiese                    1         2          2        2        3  \n",
       "Onrubia                  2         2          2        3        2  \n",
       "Brescia                  2         2          2        3        2  \n",
       "Nicolini                 2         2          2        3        2  \n",
       "Montero                  2         2          1        2        3  \n",
       "Picaso                   1         1          2        3        3  \n",
       "Bentin                   2         2          1        3        1  \n",
       "Benavides                2         2          2        2        3  \n",
       "Bustamante               2         1          1        2        3  \n",
       "Woodman Pollit           2         2          2        3        2  \n",
       "Raffo                    2         2          2        3        2  \n",
       "Piazza                   2         2          2        2        3  \n",
       "Berckemeyer              1         2          2        3        2  \n",
       "Llosa Barber             2         2          2        3        2  \n",
       "Beoutis Ledesma          2         2          2        2        3  \n",
       "Rizo Patron              1         2          3        3        3  \n",
       "Montori                  2         1          2        3        2  \n",
       "Sotomayor                0         1          3        3        3  \n",
       "Cilloniz                 1         0          2        3        3  \n",
       "Ferreyros                3         2          0        3        2  \n",
       "Michell                  3         3          3        0        4  \n",
       "Wong Lu                  3         3          2        4        0  \n",
       "\n",
       "[28 rows x 28 columns]"
      ]
     },
     "execution_count": 23,
     "metadata": {},
     "output_type": "execute_result"
    }
   ],
   "source": [
    "geodesics = dict(nx.all_pairs_shortest_path_length(eliNet_giant))\n",
    "MatrixGeo = [[geodesics.get(n,{}).get(m)  for m in eliNet_giant.nodes] for n in eliNet_giant.nodes]\n",
    "MatrixGeo_elite=pd.DataFrame(MatrixGeo,index=eliNet_giant.nodes, columns=eliNet_giant.nodes)\n",
    "\n",
    "#here\n",
    "MatrixGeo_elite"
   ]
  },
  {
   "cell_type": "markdown",
   "metadata": {},
   "source": [
    "From the matrix, we can count the frequency of geodesics:"
   ]
  },
  {
   "cell_type": "code",
   "execution_count": 24,
   "metadata": {},
   "outputs": [
    {
     "data": {
      "text/html": [
       "<div>\n",
       "<style scoped>\n",
       "    .dataframe tbody tr th:only-of-type {\n",
       "        vertical-align: middle;\n",
       "    }\n",
       "\n",
       "    .dataframe tbody tr th {\n",
       "        vertical-align: top;\n",
       "    }\n",
       "\n",
       "    .dataframe thead th {\n",
       "        text-align: right;\n",
       "    }\n",
       "</style>\n",
       "<table border=\"1\" class=\"dataframe\">\n",
       "  <thead>\n",
       "    <tr style=\"text-align: right;\">\n",
       "      <th></th>\n",
       "      <th>freq</th>\n",
       "    </tr>\n",
       "    <tr>\n",
       "      <th>geodesic_size</th>\n",
       "      <th></th>\n",
       "    </tr>\n",
       "  </thead>\n",
       "  <tbody>\n",
       "    <tr>\n",
       "      <th>0</th>\n",
       "      <td>28</td>\n",
       "    </tr>\n",
       "    <tr>\n",
       "      <th>1</th>\n",
       "      <td>266</td>\n",
       "    </tr>\n",
       "    <tr>\n",
       "      <th>2</th>\n",
       "      <td>422</td>\n",
       "    </tr>\n",
       "    <tr>\n",
       "      <th>3</th>\n",
       "      <td>66</td>\n",
       "    </tr>\n",
       "    <tr>\n",
       "      <th>4</th>\n",
       "      <td>2</td>\n",
       "    </tr>\n",
       "  </tbody>\n",
       "</table>\n",
       "</div>"
      ],
      "text/plain": [
       "               freq\n",
       "geodesic_size      \n",
       "0                28\n",
       "1               266\n",
       "2               422\n",
       "3                66\n",
       "4                 2"
      ]
     },
     "execution_count": 24,
     "metadata": {},
     "output_type": "execute_result"
    }
   ],
   "source": [
    "import numpy as np\n",
    "\n",
    "pd.DataFrame(np.unique(MatrixGeo_elite.values, return_counts=True),index=['geodesic_size','freq']).T.set_index('geodesic_size')"
   ]
  },
  {
   "cell_type": "markdown",
   "metadata": {},
   "source": [
    "The zeros represent the count of pairs (a,a).\n",
    "\n",
    "Let me get the counts for _tradeNet_:"
   ]
  },
  {
   "cell_type": "code",
   "execution_count": 25,
   "metadata": {},
   "outputs": [
    {
     "data": {
      "text/html": [
       "<div>\n",
       "<style scoped>\n",
       "    .dataframe tbody tr th:only-of-type {\n",
       "        vertical-align: middle;\n",
       "    }\n",
       "\n",
       "    .dataframe tbody tr th {\n",
       "        vertical-align: top;\n",
       "    }\n",
       "\n",
       "    .dataframe thead th {\n",
       "        text-align: right;\n",
       "    }\n",
       "</style>\n",
       "<table border=\"1\" class=\"dataframe\">\n",
       "  <thead>\n",
       "    <tr style=\"text-align: right;\">\n",
       "      <th></th>\n",
       "      <th>freq</th>\n",
       "    </tr>\n",
       "    <tr>\n",
       "      <th>geodesic_size</th>\n",
       "      <th></th>\n",
       "    </tr>\n",
       "  </thead>\n",
       "  <tbody>\n",
       "    <tr>\n",
       "      <th>0</th>\n",
       "      <td>224</td>\n",
       "    </tr>\n",
       "    <tr>\n",
       "      <th>1</th>\n",
       "      <td>10160</td>\n",
       "    </tr>\n",
       "    <tr>\n",
       "      <th>2</th>\n",
       "      <td>21124</td>\n",
       "    </tr>\n",
       "    <tr>\n",
       "      <th>3</th>\n",
       "      <td>13448</td>\n",
       "    </tr>\n",
       "    <tr>\n",
       "      <th>4</th>\n",
       "      <td>3986</td>\n",
       "    </tr>\n",
       "    <tr>\n",
       "      <th>5</th>\n",
       "      <td>1214</td>\n",
       "    </tr>\n",
       "    <tr>\n",
       "      <th>6</th>\n",
       "      <td>20</td>\n",
       "    </tr>\n",
       "  </tbody>\n",
       "</table>\n",
       "</div>"
      ],
      "text/plain": [
       "                freq\n",
       "geodesic_size       \n",
       "0                224\n",
       "1              10160\n",
       "2              21124\n",
       "3              13448\n",
       "4               3986\n",
       "5               1214\n",
       "6                 20"
      ]
     },
     "execution_count": 25,
     "metadata": {},
     "output_type": "execute_result"
    }
   ],
   "source": [
    "geodesics = dict(nx.all_pairs_shortest_path_length(tradeNet))\n",
    "MatrixGeo = [[geodesics.get(n,{}).get(m)  for m in tradeNet.nodes] for n in tradeNet.nodes]\n",
    "MatrixGeo_trade=pd.DataFrame(MatrixGeo,index=tradeNet.nodes, columns=tradeNet.nodes)\n",
    "\n",
    "#here\n",
    "pd.DataFrame(np.unique(MatrixGeo_trade.values, return_counts=True),index=['geodesic_size','freq']).T.set_index('geodesic_size')"
   ]
  },
  {
   "cell_type": "markdown",
   "metadata": {},
   "source": [
    "Let me get the counts for _topsNet_:"
   ]
  },
  {
   "cell_type": "code",
   "execution_count": 26,
   "metadata": {},
   "outputs": [
    {
     "data": {
      "text/html": [
       "<div>\n",
       "<style scoped>\n",
       "    .dataframe tbody tr th:only-of-type {\n",
       "        vertical-align: middle;\n",
       "    }\n",
       "\n",
       "    .dataframe tbody tr th {\n",
       "        vertical-align: top;\n",
       "    }\n",
       "\n",
       "    .dataframe thead th {\n",
       "        text-align: right;\n",
       "    }\n",
       "</style>\n",
       "<table border=\"1\" class=\"dataframe\">\n",
       "  <thead>\n",
       "    <tr style=\"text-align: right;\">\n",
       "      <th></th>\n",
       "      <th>freq</th>\n",
       "    </tr>\n",
       "    <tr>\n",
       "      <th>geodesic_size</th>\n",
       "      <th></th>\n",
       "    </tr>\n",
       "  </thead>\n",
       "  <tbody>\n",
       "    <tr>\n",
       "      <th>0.0</th>\n",
       "      <td>46.0</td>\n",
       "    </tr>\n",
       "    <tr>\n",
       "      <th>1.0</th>\n",
       "      <td>588.0</td>\n",
       "    </tr>\n",
       "    <tr>\n",
       "      <th>2.0</th>\n",
       "      <td>1158.0</td>\n",
       "    </tr>\n",
       "    <tr>\n",
       "      <th>3.0</th>\n",
       "      <td>182.0</td>\n",
       "    </tr>\n",
       "    <tr>\n",
       "      <th>4.0</th>\n",
       "      <td>7.0</td>\n",
       "    </tr>\n",
       "    <tr>\n",
       "      <th>NaN</th>\n",
       "      <td>135.0</td>\n",
       "    </tr>\n",
       "  </tbody>\n",
       "</table>\n",
       "</div>"
      ],
      "text/plain": [
       "                 freq\n",
       "geodesic_size        \n",
       "0.0              46.0\n",
       "1.0             588.0\n",
       "2.0            1158.0\n",
       "3.0             182.0\n",
       "4.0               7.0\n",
       "NaN             135.0"
      ]
     },
     "execution_count": 26,
     "metadata": {},
     "output_type": "execute_result"
    }
   ],
   "source": [
    "geodesics = dict(nx.all_pairs_shortest_path_length(topsNet))\n",
    "MatrixGeo = [[geodesics.get(n,{}).get(m)  for m in topsNet.nodes] for n in topsNet.nodes]\n",
    "MatrixGeo_tops=pd.DataFrame(MatrixGeo,index=topsNet.nodes, columns=topsNet.nodes)\n",
    "\n",
    "#here\n",
    "pd.DataFrame(np.unique(MatrixGeo_tops.values, return_counts=True),index=['geodesic_size','freq']).T.set_index('geodesic_size')"
   ]
  },
  {
   "cell_type": "markdown",
   "metadata": {},
   "source": [
    "Notice the missing geodesics tells there are absences of a paths between several pairs of nodes.\n",
    "\n",
    "A key concept derived for the geodesic size exploration is **the diameter**: the worst case escenario for number of steps for a node to contact another one (only for connected component in undirected nets, or SCC in directed case). This is also known as _maximum eccentricity_. \n",
    "\n",
    "<figure>\n",
    "<img src=\"https://github.com/SocialAnalytics-StrategicIntelligence/SocialNet_analytics/raw/main/picsForSession/diameter.png\" style=\"width:70%\">\n",
    "<figcaption align = \"center\"> Figure 4. Diameter. \n",
    " </figcaption>\n",
    " Source: Author.\n",
    "</figure>\n",
    "\n"
   ]
  },
  {
   "cell_type": "code",
   "execution_count": 27,
   "metadata": {},
   "outputs": [
    {
     "data": {
      "text/plain": [
       "4"
      ]
     },
     "execution_count": 27,
     "metadata": {},
     "output_type": "execute_result"
    }
   ],
   "source": [
    "nx.diameter(eliNet_giant)"
   ]
  },
  {
   "cell_type": "code",
   "execution_count": 28,
   "metadata": {},
   "outputs": [
    {
     "data": {
      "text/plain": [
       "6"
      ]
     },
     "execution_count": 28,
     "metadata": {},
     "output_type": "execute_result"
    }
   ],
   "source": [
    "nx.diameter(tradeNet)"
   ]
  },
  {
   "cell_type": "code",
   "execution_count": 29,
   "metadata": {},
   "outputs": [
    {
     "data": {
      "text/plain": [
       "4"
      ]
     },
     "execution_count": 29,
     "metadata": {},
     "output_type": "execute_result"
    }
   ],
   "source": [
    "# nx.strongly_connected_components gives nodes\n",
    "# sorted /key=len /reverse=True orders components by size\n",
    "# topsNet.subgraph builds the net\n",
    "nx.diameter(topsNet.subgraph(sorted(nx.strongly_connected_components(topsNet), key=len, reverse=True)[0]))"
   ]
  },
  {
   "cell_type": "markdown",
   "metadata": {},
   "source": [
    "**Average shortest path** is the average of every geodesic in the network."
   ]
  },
  {
   "cell_type": "code",
   "execution_count": 30,
   "metadata": {},
   "outputs": [
    {
     "data": {
      "text/plain": [
       "1.7407407407407407"
      ]
     },
     "execution_count": 30,
     "metadata": {},
     "output_type": "execute_result"
    }
   ],
   "source": [
    "nx.average_shortest_path_length(eliNet_giant)"
   ]
  },
  {
   "cell_type": "code",
   "execution_count": 31,
   "metadata": {},
   "outputs": [
    {
     "data": {
      "text/plain": [
       "2.299927930813581"
      ]
     },
     "execution_count": 31,
     "metadata": {},
     "output_type": "execute_result"
    }
   ],
   "source": [
    "nx.average_shortest_path_length(tradeNet)"
   ]
  },
  {
   "cell_type": "code",
   "execution_count": 32,
   "metadata": {},
   "outputs": [
    {
     "data": {
      "text/plain": [
       "1.7652270210409746"
      ]
     },
     "execution_count": 32,
     "metadata": {},
     "output_type": "execute_result"
    }
   ],
   "source": [
    "# only for the SC-component\n",
    "nx.average_shortest_path_length(topsNet.subgraph(sorted(nx.strongly_connected_components(topsNet), key=len, reverse=True)[0]))"
   ]
  },
  {
   "cell_type": "markdown",
   "metadata": {},
   "source": [
    "A scale-free network is one where most of his nodes have few connections, then we have other structures could be:\n",
    "\n",
    "* **Random networks** have *small shortest path* and *small clustering coefficient*\n",
    "* **Small world networks** have *small shortest path* and *high clustering coefficient*\n",
    "* **Regular networks** have *high shortest path* and *high clustering coefficient*\n",
    "\r",
    "<center><img src=\"https://github.com/EvansDataScience/CTforGA_Networks/raw/main/networkTypes.jpeg\" width=\"500\"></center>"
   ]
  },
  {
   "cell_type": "markdown",
   "metadata": {},
   "source": [
    "### Reachability\n",
    "\n",
    "From the matrix of geodesics we can get the  **reachability matrix**, which tells you if there is a conection between two nodes:"
   ]
  },
  {
   "cell_type": "code",
   "execution_count": 33,
   "metadata": {},
   "outputs": [
    {
     "name": "stderr",
     "output_type": "stream",
     "text": [
      "/var/folders/2n/bkfhfqq16r78g3hf7pdj56y40000gn/T/ipykernel_41832/1395983439.py:1: FutureWarning: Downcasting behavior in `replace` is deprecated and will be removed in a future version. To retain the old behavior, explicitly call `result.infer_objects(copy=False)`. To opt-in to the future behavior, set `pd.set_option('future.no_silent_downcasting', True)`\n",
      "  MatrixReach_elite=(MatrixGeo_elite>0).replace({True:1,False:0})\n"
     ]
    },
    {
     "data": {
      "text/html": [
       "<div>\n",
       "<style scoped>\n",
       "    .dataframe tbody tr th:only-of-type {\n",
       "        vertical-align: middle;\n",
       "    }\n",
       "\n",
       "    .dataframe tbody tr th {\n",
       "        vertical-align: top;\n",
       "    }\n",
       "\n",
       "    .dataframe thead th {\n",
       "        text-align: right;\n",
       "    }\n",
       "</style>\n",
       "<table border=\"1\" class=\"dataframe\">\n",
       "  <thead>\n",
       "    <tr style=\"text-align: right;\">\n",
       "      <th></th>\n",
       "      <th>Romero</th>\n",
       "      <th>Graña</th>\n",
       "      <th>Miro Quesada</th>\n",
       "      <th>Moreyra</th>\n",
       "      <th>Fort</th>\n",
       "      <th>De La Puente</th>\n",
       "      <th>Wiese</th>\n",
       "      <th>Onrubia</th>\n",
       "      <th>Brescia</th>\n",
       "      <th>Nicolini</th>\n",
       "      <th>...</th>\n",
       "      <th>Berckemeyer</th>\n",
       "      <th>Llosa Barber</th>\n",
       "      <th>Beoutis Ledesma</th>\n",
       "      <th>Rizo Patron</th>\n",
       "      <th>Montori</th>\n",
       "      <th>Sotomayor</th>\n",
       "      <th>Cilloniz</th>\n",
       "      <th>Ferreyros</th>\n",
       "      <th>Michell</th>\n",
       "      <th>Wong Lu</th>\n",
       "    </tr>\n",
       "  </thead>\n",
       "  <tbody>\n",
       "    <tr>\n",
       "      <th>Romero</th>\n",
       "      <td>0</td>\n",
       "      <td>1</td>\n",
       "      <td>1</td>\n",
       "      <td>1</td>\n",
       "      <td>1</td>\n",
       "      <td>1</td>\n",
       "      <td>1</td>\n",
       "      <td>1</td>\n",
       "      <td>1</td>\n",
       "      <td>1</td>\n",
       "      <td>...</td>\n",
       "      <td>1</td>\n",
       "      <td>1</td>\n",
       "      <td>1</td>\n",
       "      <td>1</td>\n",
       "      <td>1</td>\n",
       "      <td>1</td>\n",
       "      <td>1</td>\n",
       "      <td>1</td>\n",
       "      <td>1</td>\n",
       "      <td>1</td>\n",
       "    </tr>\n",
       "    <tr>\n",
       "      <th>Graña</th>\n",
       "      <td>1</td>\n",
       "      <td>0</td>\n",
       "      <td>1</td>\n",
       "      <td>1</td>\n",
       "      <td>1</td>\n",
       "      <td>1</td>\n",
       "      <td>1</td>\n",
       "      <td>1</td>\n",
       "      <td>1</td>\n",
       "      <td>1</td>\n",
       "      <td>...</td>\n",
       "      <td>1</td>\n",
       "      <td>1</td>\n",
       "      <td>1</td>\n",
       "      <td>1</td>\n",
       "      <td>1</td>\n",
       "      <td>1</td>\n",
       "      <td>1</td>\n",
       "      <td>1</td>\n",
       "      <td>1</td>\n",
       "      <td>1</td>\n",
       "    </tr>\n",
       "    <tr>\n",
       "      <th>Miro Quesada</th>\n",
       "      <td>1</td>\n",
       "      <td>1</td>\n",
       "      <td>0</td>\n",
       "      <td>1</td>\n",
       "      <td>1</td>\n",
       "      <td>1</td>\n",
       "      <td>1</td>\n",
       "      <td>1</td>\n",
       "      <td>1</td>\n",
       "      <td>1</td>\n",
       "      <td>...</td>\n",
       "      <td>1</td>\n",
       "      <td>1</td>\n",
       "      <td>1</td>\n",
       "      <td>1</td>\n",
       "      <td>1</td>\n",
       "      <td>1</td>\n",
       "      <td>1</td>\n",
       "      <td>1</td>\n",
       "      <td>1</td>\n",
       "      <td>1</td>\n",
       "    </tr>\n",
       "    <tr>\n",
       "      <th>Moreyra</th>\n",
       "      <td>1</td>\n",
       "      <td>1</td>\n",
       "      <td>1</td>\n",
       "      <td>0</td>\n",
       "      <td>1</td>\n",
       "      <td>1</td>\n",
       "      <td>1</td>\n",
       "      <td>1</td>\n",
       "      <td>1</td>\n",
       "      <td>1</td>\n",
       "      <td>...</td>\n",
       "      <td>1</td>\n",
       "      <td>1</td>\n",
       "      <td>1</td>\n",
       "      <td>1</td>\n",
       "      <td>1</td>\n",
       "      <td>1</td>\n",
       "      <td>1</td>\n",
       "      <td>1</td>\n",
       "      <td>1</td>\n",
       "      <td>1</td>\n",
       "    </tr>\n",
       "    <tr>\n",
       "      <th>Fort</th>\n",
       "      <td>1</td>\n",
       "      <td>1</td>\n",
       "      <td>1</td>\n",
       "      <td>1</td>\n",
       "      <td>0</td>\n",
       "      <td>1</td>\n",
       "      <td>1</td>\n",
       "      <td>1</td>\n",
       "      <td>1</td>\n",
       "      <td>1</td>\n",
       "      <td>...</td>\n",
       "      <td>1</td>\n",
       "      <td>1</td>\n",
       "      <td>1</td>\n",
       "      <td>1</td>\n",
       "      <td>1</td>\n",
       "      <td>1</td>\n",
       "      <td>1</td>\n",
       "      <td>1</td>\n",
       "      <td>1</td>\n",
       "      <td>1</td>\n",
       "    </tr>\n",
       "    <tr>\n",
       "      <th>De La Puente</th>\n",
       "      <td>1</td>\n",
       "      <td>1</td>\n",
       "      <td>1</td>\n",
       "      <td>1</td>\n",
       "      <td>1</td>\n",
       "      <td>0</td>\n",
       "      <td>1</td>\n",
       "      <td>1</td>\n",
       "      <td>1</td>\n",
       "      <td>1</td>\n",
       "      <td>...</td>\n",
       "      <td>1</td>\n",
       "      <td>1</td>\n",
       "      <td>1</td>\n",
       "      <td>1</td>\n",
       "      <td>1</td>\n",
       "      <td>1</td>\n",
       "      <td>1</td>\n",
       "      <td>1</td>\n",
       "      <td>1</td>\n",
       "      <td>1</td>\n",
       "    </tr>\n",
       "    <tr>\n",
       "      <th>Wiese</th>\n",
       "      <td>1</td>\n",
       "      <td>1</td>\n",
       "      <td>1</td>\n",
       "      <td>1</td>\n",
       "      <td>1</td>\n",
       "      <td>1</td>\n",
       "      <td>0</td>\n",
       "      <td>1</td>\n",
       "      <td>1</td>\n",
       "      <td>1</td>\n",
       "      <td>...</td>\n",
       "      <td>1</td>\n",
       "      <td>1</td>\n",
       "      <td>1</td>\n",
       "      <td>1</td>\n",
       "      <td>1</td>\n",
       "      <td>1</td>\n",
       "      <td>1</td>\n",
       "      <td>1</td>\n",
       "      <td>1</td>\n",
       "      <td>1</td>\n",
       "    </tr>\n",
       "    <tr>\n",
       "      <th>Onrubia</th>\n",
       "      <td>1</td>\n",
       "      <td>1</td>\n",
       "      <td>1</td>\n",
       "      <td>1</td>\n",
       "      <td>1</td>\n",
       "      <td>1</td>\n",
       "      <td>1</td>\n",
       "      <td>0</td>\n",
       "      <td>1</td>\n",
       "      <td>1</td>\n",
       "      <td>...</td>\n",
       "      <td>1</td>\n",
       "      <td>1</td>\n",
       "      <td>1</td>\n",
       "      <td>1</td>\n",
       "      <td>1</td>\n",
       "      <td>1</td>\n",
       "      <td>1</td>\n",
       "      <td>1</td>\n",
       "      <td>1</td>\n",
       "      <td>1</td>\n",
       "    </tr>\n",
       "    <tr>\n",
       "      <th>Brescia</th>\n",
       "      <td>1</td>\n",
       "      <td>1</td>\n",
       "      <td>1</td>\n",
       "      <td>1</td>\n",
       "      <td>1</td>\n",
       "      <td>1</td>\n",
       "      <td>1</td>\n",
       "      <td>1</td>\n",
       "      <td>0</td>\n",
       "      <td>1</td>\n",
       "      <td>...</td>\n",
       "      <td>1</td>\n",
       "      <td>1</td>\n",
       "      <td>1</td>\n",
       "      <td>1</td>\n",
       "      <td>1</td>\n",
       "      <td>1</td>\n",
       "      <td>1</td>\n",
       "      <td>1</td>\n",
       "      <td>1</td>\n",
       "      <td>1</td>\n",
       "    </tr>\n",
       "    <tr>\n",
       "      <th>Nicolini</th>\n",
       "      <td>1</td>\n",
       "      <td>1</td>\n",
       "      <td>1</td>\n",
       "      <td>1</td>\n",
       "      <td>1</td>\n",
       "      <td>1</td>\n",
       "      <td>1</td>\n",
       "      <td>1</td>\n",
       "      <td>1</td>\n",
       "      <td>0</td>\n",
       "      <td>...</td>\n",
       "      <td>1</td>\n",
       "      <td>1</td>\n",
       "      <td>1</td>\n",
       "      <td>1</td>\n",
       "      <td>1</td>\n",
       "      <td>1</td>\n",
       "      <td>1</td>\n",
       "      <td>1</td>\n",
       "      <td>1</td>\n",
       "      <td>1</td>\n",
       "    </tr>\n",
       "    <tr>\n",
       "      <th>Montero</th>\n",
       "      <td>1</td>\n",
       "      <td>1</td>\n",
       "      <td>1</td>\n",
       "      <td>1</td>\n",
       "      <td>1</td>\n",
       "      <td>1</td>\n",
       "      <td>1</td>\n",
       "      <td>1</td>\n",
       "      <td>1</td>\n",
       "      <td>1</td>\n",
       "      <td>...</td>\n",
       "      <td>1</td>\n",
       "      <td>1</td>\n",
       "      <td>1</td>\n",
       "      <td>1</td>\n",
       "      <td>1</td>\n",
       "      <td>1</td>\n",
       "      <td>1</td>\n",
       "      <td>1</td>\n",
       "      <td>1</td>\n",
       "      <td>1</td>\n",
       "    </tr>\n",
       "    <tr>\n",
       "      <th>Picaso</th>\n",
       "      <td>1</td>\n",
       "      <td>1</td>\n",
       "      <td>1</td>\n",
       "      <td>1</td>\n",
       "      <td>1</td>\n",
       "      <td>1</td>\n",
       "      <td>1</td>\n",
       "      <td>1</td>\n",
       "      <td>1</td>\n",
       "      <td>1</td>\n",
       "      <td>...</td>\n",
       "      <td>1</td>\n",
       "      <td>1</td>\n",
       "      <td>1</td>\n",
       "      <td>1</td>\n",
       "      <td>1</td>\n",
       "      <td>1</td>\n",
       "      <td>1</td>\n",
       "      <td>1</td>\n",
       "      <td>1</td>\n",
       "      <td>1</td>\n",
       "    </tr>\n",
       "    <tr>\n",
       "      <th>Bentin</th>\n",
       "      <td>1</td>\n",
       "      <td>1</td>\n",
       "      <td>1</td>\n",
       "      <td>1</td>\n",
       "      <td>1</td>\n",
       "      <td>1</td>\n",
       "      <td>1</td>\n",
       "      <td>1</td>\n",
       "      <td>1</td>\n",
       "      <td>1</td>\n",
       "      <td>...</td>\n",
       "      <td>1</td>\n",
       "      <td>1</td>\n",
       "      <td>1</td>\n",
       "      <td>1</td>\n",
       "      <td>1</td>\n",
       "      <td>1</td>\n",
       "      <td>1</td>\n",
       "      <td>1</td>\n",
       "      <td>1</td>\n",
       "      <td>1</td>\n",
       "    </tr>\n",
       "    <tr>\n",
       "      <th>Benavides</th>\n",
       "      <td>1</td>\n",
       "      <td>1</td>\n",
       "      <td>1</td>\n",
       "      <td>1</td>\n",
       "      <td>1</td>\n",
       "      <td>1</td>\n",
       "      <td>1</td>\n",
       "      <td>1</td>\n",
       "      <td>1</td>\n",
       "      <td>1</td>\n",
       "      <td>...</td>\n",
       "      <td>1</td>\n",
       "      <td>1</td>\n",
       "      <td>1</td>\n",
       "      <td>1</td>\n",
       "      <td>1</td>\n",
       "      <td>1</td>\n",
       "      <td>1</td>\n",
       "      <td>1</td>\n",
       "      <td>1</td>\n",
       "      <td>1</td>\n",
       "    </tr>\n",
       "    <tr>\n",
       "      <th>Bustamante</th>\n",
       "      <td>1</td>\n",
       "      <td>1</td>\n",
       "      <td>1</td>\n",
       "      <td>1</td>\n",
       "      <td>1</td>\n",
       "      <td>1</td>\n",
       "      <td>1</td>\n",
       "      <td>1</td>\n",
       "      <td>1</td>\n",
       "      <td>1</td>\n",
       "      <td>...</td>\n",
       "      <td>1</td>\n",
       "      <td>1</td>\n",
       "      <td>1</td>\n",
       "      <td>1</td>\n",
       "      <td>1</td>\n",
       "      <td>1</td>\n",
       "      <td>1</td>\n",
       "      <td>1</td>\n",
       "      <td>1</td>\n",
       "      <td>1</td>\n",
       "    </tr>\n",
       "    <tr>\n",
       "      <th>Woodman Pollit</th>\n",
       "      <td>1</td>\n",
       "      <td>1</td>\n",
       "      <td>1</td>\n",
       "      <td>1</td>\n",
       "      <td>1</td>\n",
       "      <td>1</td>\n",
       "      <td>1</td>\n",
       "      <td>1</td>\n",
       "      <td>1</td>\n",
       "      <td>1</td>\n",
       "      <td>...</td>\n",
       "      <td>1</td>\n",
       "      <td>1</td>\n",
       "      <td>1</td>\n",
       "      <td>1</td>\n",
       "      <td>1</td>\n",
       "      <td>1</td>\n",
       "      <td>1</td>\n",
       "      <td>1</td>\n",
       "      <td>1</td>\n",
       "      <td>1</td>\n",
       "    </tr>\n",
       "    <tr>\n",
       "      <th>Raffo</th>\n",
       "      <td>1</td>\n",
       "      <td>1</td>\n",
       "      <td>1</td>\n",
       "      <td>1</td>\n",
       "      <td>1</td>\n",
       "      <td>1</td>\n",
       "      <td>1</td>\n",
       "      <td>1</td>\n",
       "      <td>1</td>\n",
       "      <td>1</td>\n",
       "      <td>...</td>\n",
       "      <td>1</td>\n",
       "      <td>1</td>\n",
       "      <td>1</td>\n",
       "      <td>1</td>\n",
       "      <td>1</td>\n",
       "      <td>1</td>\n",
       "      <td>1</td>\n",
       "      <td>1</td>\n",
       "      <td>1</td>\n",
       "      <td>1</td>\n",
       "    </tr>\n",
       "    <tr>\n",
       "      <th>Piazza</th>\n",
       "      <td>1</td>\n",
       "      <td>1</td>\n",
       "      <td>1</td>\n",
       "      <td>1</td>\n",
       "      <td>1</td>\n",
       "      <td>1</td>\n",
       "      <td>1</td>\n",
       "      <td>1</td>\n",
       "      <td>1</td>\n",
       "      <td>1</td>\n",
       "      <td>...</td>\n",
       "      <td>1</td>\n",
       "      <td>1</td>\n",
       "      <td>1</td>\n",
       "      <td>1</td>\n",
       "      <td>1</td>\n",
       "      <td>1</td>\n",
       "      <td>1</td>\n",
       "      <td>1</td>\n",
       "      <td>1</td>\n",
       "      <td>1</td>\n",
       "    </tr>\n",
       "    <tr>\n",
       "      <th>Berckemeyer</th>\n",
       "      <td>1</td>\n",
       "      <td>1</td>\n",
       "      <td>1</td>\n",
       "      <td>1</td>\n",
       "      <td>1</td>\n",
       "      <td>1</td>\n",
       "      <td>1</td>\n",
       "      <td>1</td>\n",
       "      <td>1</td>\n",
       "      <td>1</td>\n",
       "      <td>...</td>\n",
       "      <td>0</td>\n",
       "      <td>1</td>\n",
       "      <td>1</td>\n",
       "      <td>1</td>\n",
       "      <td>1</td>\n",
       "      <td>1</td>\n",
       "      <td>1</td>\n",
       "      <td>1</td>\n",
       "      <td>1</td>\n",
       "      <td>1</td>\n",
       "    </tr>\n",
       "    <tr>\n",
       "      <th>Llosa Barber</th>\n",
       "      <td>1</td>\n",
       "      <td>1</td>\n",
       "      <td>1</td>\n",
       "      <td>1</td>\n",
       "      <td>1</td>\n",
       "      <td>1</td>\n",
       "      <td>1</td>\n",
       "      <td>1</td>\n",
       "      <td>1</td>\n",
       "      <td>1</td>\n",
       "      <td>...</td>\n",
       "      <td>1</td>\n",
       "      <td>0</td>\n",
       "      <td>1</td>\n",
       "      <td>1</td>\n",
       "      <td>1</td>\n",
       "      <td>1</td>\n",
       "      <td>1</td>\n",
       "      <td>1</td>\n",
       "      <td>1</td>\n",
       "      <td>1</td>\n",
       "    </tr>\n",
       "    <tr>\n",
       "      <th>Beoutis Ledesma</th>\n",
       "      <td>1</td>\n",
       "      <td>1</td>\n",
       "      <td>1</td>\n",
       "      <td>1</td>\n",
       "      <td>1</td>\n",
       "      <td>1</td>\n",
       "      <td>1</td>\n",
       "      <td>1</td>\n",
       "      <td>1</td>\n",
       "      <td>1</td>\n",
       "      <td>...</td>\n",
       "      <td>1</td>\n",
       "      <td>1</td>\n",
       "      <td>0</td>\n",
       "      <td>1</td>\n",
       "      <td>1</td>\n",
       "      <td>1</td>\n",
       "      <td>1</td>\n",
       "      <td>1</td>\n",
       "      <td>1</td>\n",
       "      <td>1</td>\n",
       "    </tr>\n",
       "    <tr>\n",
       "      <th>Rizo Patron</th>\n",
       "      <td>1</td>\n",
       "      <td>1</td>\n",
       "      <td>1</td>\n",
       "      <td>1</td>\n",
       "      <td>1</td>\n",
       "      <td>1</td>\n",
       "      <td>1</td>\n",
       "      <td>1</td>\n",
       "      <td>1</td>\n",
       "      <td>1</td>\n",
       "      <td>...</td>\n",
       "      <td>1</td>\n",
       "      <td>1</td>\n",
       "      <td>1</td>\n",
       "      <td>0</td>\n",
       "      <td>1</td>\n",
       "      <td>1</td>\n",
       "      <td>1</td>\n",
       "      <td>1</td>\n",
       "      <td>1</td>\n",
       "      <td>1</td>\n",
       "    </tr>\n",
       "    <tr>\n",
       "      <th>Montori</th>\n",
       "      <td>1</td>\n",
       "      <td>1</td>\n",
       "      <td>1</td>\n",
       "      <td>1</td>\n",
       "      <td>1</td>\n",
       "      <td>1</td>\n",
       "      <td>1</td>\n",
       "      <td>1</td>\n",
       "      <td>1</td>\n",
       "      <td>1</td>\n",
       "      <td>...</td>\n",
       "      <td>1</td>\n",
       "      <td>1</td>\n",
       "      <td>1</td>\n",
       "      <td>1</td>\n",
       "      <td>0</td>\n",
       "      <td>1</td>\n",
       "      <td>1</td>\n",
       "      <td>1</td>\n",
       "      <td>1</td>\n",
       "      <td>1</td>\n",
       "    </tr>\n",
       "    <tr>\n",
       "      <th>Sotomayor</th>\n",
       "      <td>1</td>\n",
       "      <td>1</td>\n",
       "      <td>1</td>\n",
       "      <td>1</td>\n",
       "      <td>1</td>\n",
       "      <td>1</td>\n",
       "      <td>1</td>\n",
       "      <td>1</td>\n",
       "      <td>1</td>\n",
       "      <td>1</td>\n",
       "      <td>...</td>\n",
       "      <td>1</td>\n",
       "      <td>1</td>\n",
       "      <td>1</td>\n",
       "      <td>1</td>\n",
       "      <td>1</td>\n",
       "      <td>0</td>\n",
       "      <td>1</td>\n",
       "      <td>1</td>\n",
       "      <td>1</td>\n",
       "      <td>1</td>\n",
       "    </tr>\n",
       "    <tr>\n",
       "      <th>Cilloniz</th>\n",
       "      <td>1</td>\n",
       "      <td>1</td>\n",
       "      <td>1</td>\n",
       "      <td>1</td>\n",
       "      <td>1</td>\n",
       "      <td>1</td>\n",
       "      <td>1</td>\n",
       "      <td>1</td>\n",
       "      <td>1</td>\n",
       "      <td>1</td>\n",
       "      <td>...</td>\n",
       "      <td>1</td>\n",
       "      <td>1</td>\n",
       "      <td>1</td>\n",
       "      <td>1</td>\n",
       "      <td>1</td>\n",
       "      <td>1</td>\n",
       "      <td>0</td>\n",
       "      <td>1</td>\n",
       "      <td>1</td>\n",
       "      <td>1</td>\n",
       "    </tr>\n",
       "    <tr>\n",
       "      <th>Ferreyros</th>\n",
       "      <td>1</td>\n",
       "      <td>1</td>\n",
       "      <td>1</td>\n",
       "      <td>1</td>\n",
       "      <td>1</td>\n",
       "      <td>1</td>\n",
       "      <td>1</td>\n",
       "      <td>1</td>\n",
       "      <td>1</td>\n",
       "      <td>1</td>\n",
       "      <td>...</td>\n",
       "      <td>1</td>\n",
       "      <td>1</td>\n",
       "      <td>1</td>\n",
       "      <td>1</td>\n",
       "      <td>1</td>\n",
       "      <td>1</td>\n",
       "      <td>1</td>\n",
       "      <td>0</td>\n",
       "      <td>1</td>\n",
       "      <td>1</td>\n",
       "    </tr>\n",
       "    <tr>\n",
       "      <th>Michell</th>\n",
       "      <td>1</td>\n",
       "      <td>1</td>\n",
       "      <td>1</td>\n",
       "      <td>1</td>\n",
       "      <td>1</td>\n",
       "      <td>1</td>\n",
       "      <td>1</td>\n",
       "      <td>1</td>\n",
       "      <td>1</td>\n",
       "      <td>1</td>\n",
       "      <td>...</td>\n",
       "      <td>1</td>\n",
       "      <td>1</td>\n",
       "      <td>1</td>\n",
       "      <td>1</td>\n",
       "      <td>1</td>\n",
       "      <td>1</td>\n",
       "      <td>1</td>\n",
       "      <td>1</td>\n",
       "      <td>0</td>\n",
       "      <td>1</td>\n",
       "    </tr>\n",
       "    <tr>\n",
       "      <th>Wong Lu</th>\n",
       "      <td>1</td>\n",
       "      <td>1</td>\n",
       "      <td>1</td>\n",
       "      <td>1</td>\n",
       "      <td>1</td>\n",
       "      <td>1</td>\n",
       "      <td>1</td>\n",
       "      <td>1</td>\n",
       "      <td>1</td>\n",
       "      <td>1</td>\n",
       "      <td>...</td>\n",
       "      <td>1</td>\n",
       "      <td>1</td>\n",
       "      <td>1</td>\n",
       "      <td>1</td>\n",
       "      <td>1</td>\n",
       "      <td>1</td>\n",
       "      <td>1</td>\n",
       "      <td>1</td>\n",
       "      <td>1</td>\n",
       "      <td>0</td>\n",
       "    </tr>\n",
       "  </tbody>\n",
       "</table>\n",
       "<p>28 rows × 28 columns</p>\n",
       "</div>"
      ],
      "text/plain": [
       "                 Romero  Graña  Miro Quesada  Moreyra  Fort  De La Puente  \\\n",
       "Romero                0      1             1        1     1             1   \n",
       "Graña                 1      0             1        1     1             1   \n",
       "Miro Quesada          1      1             0        1     1             1   \n",
       "Moreyra               1      1             1        0     1             1   \n",
       "Fort                  1      1             1        1     0             1   \n",
       "De La Puente          1      1             1        1     1             0   \n",
       "Wiese                 1      1             1        1     1             1   \n",
       "Onrubia               1      1             1        1     1             1   \n",
       "Brescia               1      1             1        1     1             1   \n",
       "Nicolini              1      1             1        1     1             1   \n",
       "Montero               1      1             1        1     1             1   \n",
       "Picaso                1      1             1        1     1             1   \n",
       "Bentin                1      1             1        1     1             1   \n",
       "Benavides             1      1             1        1     1             1   \n",
       "Bustamante            1      1             1        1     1             1   \n",
       "Woodman Pollit        1      1             1        1     1             1   \n",
       "Raffo                 1      1             1        1     1             1   \n",
       "Piazza                1      1             1        1     1             1   \n",
       "Berckemeyer           1      1             1        1     1             1   \n",
       "Llosa Barber          1      1             1        1     1             1   \n",
       "Beoutis Ledesma       1      1             1        1     1             1   \n",
       "Rizo Patron           1      1             1        1     1             1   \n",
       "Montori               1      1             1        1     1             1   \n",
       "Sotomayor             1      1             1        1     1             1   \n",
       "Cilloniz              1      1             1        1     1             1   \n",
       "Ferreyros             1      1             1        1     1             1   \n",
       "Michell               1      1             1        1     1             1   \n",
       "Wong Lu               1      1             1        1     1             1   \n",
       "\n",
       "                 Wiese  Onrubia  Brescia  Nicolini  ...  Berckemeyer  \\\n",
       "Romero               1        1        1         1  ...            1   \n",
       "Graña                1        1        1         1  ...            1   \n",
       "Miro Quesada         1        1        1         1  ...            1   \n",
       "Moreyra              1        1        1         1  ...            1   \n",
       "Fort                 1        1        1         1  ...            1   \n",
       "De La Puente         1        1        1         1  ...            1   \n",
       "Wiese                0        1        1         1  ...            1   \n",
       "Onrubia              1        0        1         1  ...            1   \n",
       "Brescia              1        1        0         1  ...            1   \n",
       "Nicolini             1        1        1         0  ...            1   \n",
       "Montero              1        1        1         1  ...            1   \n",
       "Picaso               1        1        1         1  ...            1   \n",
       "Bentin               1        1        1         1  ...            1   \n",
       "Benavides            1        1        1         1  ...            1   \n",
       "Bustamante           1        1        1         1  ...            1   \n",
       "Woodman Pollit       1        1        1         1  ...            1   \n",
       "Raffo                1        1        1         1  ...            1   \n",
       "Piazza               1        1        1         1  ...            1   \n",
       "Berckemeyer          1        1        1         1  ...            0   \n",
       "Llosa Barber         1        1        1         1  ...            1   \n",
       "Beoutis Ledesma      1        1        1         1  ...            1   \n",
       "Rizo Patron          1        1        1         1  ...            1   \n",
       "Montori              1        1        1         1  ...            1   \n",
       "Sotomayor            1        1        1         1  ...            1   \n",
       "Cilloniz             1        1        1         1  ...            1   \n",
       "Ferreyros            1        1        1         1  ...            1   \n",
       "Michell              1        1        1         1  ...            1   \n",
       "Wong Lu              1        1        1         1  ...            1   \n",
       "\n",
       "                 Llosa Barber  Beoutis Ledesma  Rizo Patron  Montori  \\\n",
       "Romero                      1                1            1        1   \n",
       "Graña                       1                1            1        1   \n",
       "Miro Quesada                1                1            1        1   \n",
       "Moreyra                     1                1            1        1   \n",
       "Fort                        1                1            1        1   \n",
       "De La Puente                1                1            1        1   \n",
       "Wiese                       1                1            1        1   \n",
       "Onrubia                     1                1            1        1   \n",
       "Brescia                     1                1            1        1   \n",
       "Nicolini                    1                1            1        1   \n",
       "Montero                     1                1            1        1   \n",
       "Picaso                      1                1            1        1   \n",
       "Bentin                      1                1            1        1   \n",
       "Benavides                   1                1            1        1   \n",
       "Bustamante                  1                1            1        1   \n",
       "Woodman Pollit              1                1            1        1   \n",
       "Raffo                       1                1            1        1   \n",
       "Piazza                      1                1            1        1   \n",
       "Berckemeyer                 1                1            1        1   \n",
       "Llosa Barber                0                1            1        1   \n",
       "Beoutis Ledesma             1                0            1        1   \n",
       "Rizo Patron                 1                1            0        1   \n",
       "Montori                     1                1            1        0   \n",
       "Sotomayor                   1                1            1        1   \n",
       "Cilloniz                    1                1            1        1   \n",
       "Ferreyros                   1                1            1        1   \n",
       "Michell                     1                1            1        1   \n",
       "Wong Lu                     1                1            1        1   \n",
       "\n",
       "                 Sotomayor  Cilloniz  Ferreyros  Michell  Wong Lu  \n",
       "Romero                   1         1          1        1        1  \n",
       "Graña                    1         1          1        1        1  \n",
       "Miro Quesada             1         1          1        1        1  \n",
       "Moreyra                  1         1          1        1        1  \n",
       "Fort                     1         1          1        1        1  \n",
       "De La Puente             1         1          1        1        1  \n",
       "Wiese                    1         1          1        1        1  \n",
       "Onrubia                  1         1          1        1        1  \n",
       "Brescia                  1         1          1        1        1  \n",
       "Nicolini                 1         1          1        1        1  \n",
       "Montero                  1         1          1        1        1  \n",
       "Picaso                   1         1          1        1        1  \n",
       "Bentin                   1         1          1        1        1  \n",
       "Benavides                1         1          1        1        1  \n",
       "Bustamante               1         1          1        1        1  \n",
       "Woodman Pollit           1         1          1        1        1  \n",
       "Raffo                    1         1          1        1        1  \n",
       "Piazza                   1         1          1        1        1  \n",
       "Berckemeyer              1         1          1        1        1  \n",
       "Llosa Barber             1         1          1        1        1  \n",
       "Beoutis Ledesma          1         1          1        1        1  \n",
       "Rizo Patron              1         1          1        1        1  \n",
       "Montori                  1         1          1        1        1  \n",
       "Sotomayor                0         1          1        1        1  \n",
       "Cilloniz                 1         0          1        1        1  \n",
       "Ferreyros                1         1          0        1        1  \n",
       "Michell                  1         1          1        0        1  \n",
       "Wong Lu                  1         1          1        1        0  \n",
       "\n",
       "[28 rows x 28 columns]"
      ]
     },
     "execution_count": 33,
     "metadata": {},
     "output_type": "execute_result"
    }
   ],
   "source": [
    "MatrixReach_elite=(MatrixGeo_elite>0).replace({True:1,False:0})\n",
    "MatrixReach_elite"
   ]
  },
  {
   "cell_type": "markdown",
   "metadata": {},
   "source": [
    "This matrix helps us compute the **connectedness** level:"
   ]
  },
  {
   "cell_type": "code",
   "execution_count": 34,
   "metadata": {},
   "outputs": [
    {
     "data": {
      "text/plain": [
       "1.0"
      ]
     },
     "execution_count": 34,
     "metadata": {},
     "output_type": "execute_result"
    }
   ],
   "source": [
    "nNodes=len(eliNet_giant.nodes)\n",
    "MatrixReach_elite.sum().sum()/(nNodes*(nNodes-1))"
   ]
  },
  {
   "cell_type": "code",
   "execution_count": 35,
   "metadata": {},
   "outputs": [
    {
     "name": "stderr",
     "output_type": "stream",
     "text": [
      "/var/folders/2n/bkfhfqq16r78g3hf7pdj56y40000gn/T/ipykernel_41832/3245188219.py:1: FutureWarning: Downcasting behavior in `replace` is deprecated and will be removed in a future version. To retain the old behavior, explicitly call `result.infer_objects(copy=False)`. To opt-in to the future behavior, set `pd.set_option('future.no_silent_downcasting', True)`\n",
      "  MatrixReach_tops=(MatrixGeo_tops>0).replace({True:1,False:0})\n"
     ]
    },
    {
     "data": {
      "text/plain": [
       "0.9347826086956522"
      ]
     },
     "execution_count": 35,
     "metadata": {},
     "output_type": "execute_result"
    }
   ],
   "source": [
    "MatrixReach_tops=(MatrixGeo_tops>0).replace({True:1,False:0})\n",
    "\n",
    "nNodes=len(topsNet.nodes)\n",
    "MatrixReach_tops.sum().sum()/(nNodes*(nNodes-1))"
   ]
  },
  {
   "cell_type": "markdown",
   "metadata": {},
   "source": [
    "If we have a directed graph, here _topsNet_, we can compute reciprocity:"
   ]
  },
  {
   "cell_type": "code",
   "execution_count": 36,
   "metadata": {},
   "outputs": [
    {
     "data": {
      "text/plain": [
       "0.6632653061224489"
      ]
     },
     "execution_count": 36,
     "metadata": {},
     "output_type": "execute_result"
    }
   ],
   "source": [
    "nx.overall_reciprocity(topsNet)"
   ]
  },
  {
   "cell_type": "code",
   "execution_count": 37,
   "metadata": {},
   "outputs": [
    {
     "data": {
      "text/html": [
       "<div>\n",
       "<style scoped>\n",
       "    .dataframe tbody tr th:only-of-type {\n",
       "        vertical-align: middle;\n",
       "    }\n",
       "\n",
       "    .dataframe tbody tr th {\n",
       "        vertical-align: top;\n",
       "    }\n",
       "\n",
       "    .dataframe thead th {\n",
       "        text-align: right;\n",
       "    }\n",
       "</style>\n",
       "<table border=\"1\" class=\"dataframe\">\n",
       "  <thead>\n",
       "    <tr style=\"text-align: right;\">\n",
       "      <th></th>\n",
       "      <th>0</th>\n",
       "    </tr>\n",
       "  </thead>\n",
       "  <tbody>\n",
       "    <tr>\n",
       "      <th>LeslieFeinzaig</th>\n",
       "      <td>0.941176</td>\n",
       "    </tr>\n",
       "    <tr>\n",
       "      <th>john_gabbert</th>\n",
       "      <td>0.923077</td>\n",
       "    </tr>\n",
       "    <tr>\n",
       "      <th>ShaunaCausey</th>\n",
       "      <td>0.901961</td>\n",
       "    </tr>\n",
       "    <tr>\n",
       "      <th>toddbishop</th>\n",
       "      <td>0.828571</td>\n",
       "    </tr>\n",
       "    <tr>\n",
       "      <th>daryn</th>\n",
       "      <td>0.823529</td>\n",
       "    </tr>\n",
       "    <tr>\n",
       "      <th>MissDestructo</th>\n",
       "      <td>0.820513</td>\n",
       "    </tr>\n",
       "    <tr>\n",
       "      <th>juliesandler</th>\n",
       "      <td>0.807692</td>\n",
       "    </tr>\n",
       "    <tr>\n",
       "      <th>rachelerman</th>\n",
       "      <td>0.800000</td>\n",
       "    </tr>\n",
       "    <tr>\n",
       "      <th>heatherredman</th>\n",
       "      <td>0.800000</td>\n",
       "    </tr>\n",
       "    <tr>\n",
       "      <th>etzioni</th>\n",
       "      <td>0.800000</td>\n",
       "    </tr>\n",
       "    <tr>\n",
       "      <th>Ryanintheus</th>\n",
       "      <td>0.782609</td>\n",
       "    </tr>\n",
       "    <tr>\n",
       "      <th>stevesi</th>\n",
       "      <td>0.761905</td>\n",
       "    </tr>\n",
       "    <tr>\n",
       "      <th>lovelletters</th>\n",
       "      <td>0.739130</td>\n",
       "    </tr>\n",
       "    <tr>\n",
       "      <th>mattmday</th>\n",
       "      <td>0.727273</td>\n",
       "    </tr>\n",
       "    <tr>\n",
       "      <th>nhuntwalker</th>\n",
       "      <td>0.727273</td>\n",
       "    </tr>\n",
       "    <tr>\n",
       "      <th>moniguzman</th>\n",
       "      <td>0.711111</td>\n",
       "    </tr>\n",
       "    <tr>\n",
       "      <th>BradSmi</th>\n",
       "      <td>0.700000</td>\n",
       "    </tr>\n",
       "    <tr>\n",
       "      <th>kirbywinfield</th>\n",
       "      <td>0.692308</td>\n",
       "    </tr>\n",
       "    <tr>\n",
       "      <th>sarahstood</th>\n",
       "      <td>0.666667</td>\n",
       "    </tr>\n",
       "    <tr>\n",
       "      <th>ashannstew</th>\n",
       "      <td>0.666667</td>\n",
       "    </tr>\n",
       "    <tr>\n",
       "      <th>jinman</th>\n",
       "      <td>0.666667</td>\n",
       "    </tr>\n",
       "    <tr>\n",
       "      <th>crashdev</th>\n",
       "      <td>0.648649</td>\n",
       "    </tr>\n",
       "    <tr>\n",
       "      <th>KieranSnyder</th>\n",
       "      <td>0.645161</td>\n",
       "    </tr>\n",
       "    <tr>\n",
       "      <th>sonalpmane</th>\n",
       "      <td>0.600000</td>\n",
       "    </tr>\n",
       "    <tr>\n",
       "      <th>matt_oppy</th>\n",
       "      <td>0.594595</td>\n",
       "    </tr>\n",
       "    <tr>\n",
       "      <th>mcolacurcio</th>\n",
       "      <td>0.588235</td>\n",
       "    </tr>\n",
       "    <tr>\n",
       "      <th>DaveParkerSEA</th>\n",
       "      <td>0.588235</td>\n",
       "    </tr>\n",
       "    <tr>\n",
       "      <th>Kristen_Hammy</th>\n",
       "      <td>0.571429</td>\n",
       "    </tr>\n",
       "    <tr>\n",
       "      <th>marybethlambert</th>\n",
       "      <td>0.571429</td>\n",
       "    </tr>\n",
       "    <tr>\n",
       "      <th>mattmcilwain</th>\n",
       "      <td>0.545455</td>\n",
       "    </tr>\n",
       "    <tr>\n",
       "      <th>PeterHamilton</th>\n",
       "      <td>0.533333</td>\n",
       "    </tr>\n",
       "    <tr>\n",
       "      <th>lanctot</th>\n",
       "      <td>0.500000</td>\n",
       "    </tr>\n",
       "    <tr>\n",
       "      <th>SoGulley</th>\n",
       "      <td>0.482759</td>\n",
       "    </tr>\n",
       "    <tr>\n",
       "      <th>gilbert</th>\n",
       "      <td>0.434783</td>\n",
       "    </tr>\n",
       "    <tr>\n",
       "      <th>Jenerationy</th>\n",
       "      <td>0.421053</td>\n",
       "    </tr>\n",
       "    <tr>\n",
       "      <th>RajSinghSeattle</th>\n",
       "      <td>0.416667</td>\n",
       "    </tr>\n",
       "    <tr>\n",
       "      <th>danshapiro</th>\n",
       "      <td>0.400000</td>\n",
       "    </tr>\n",
       "    <tr>\n",
       "      <th>medinism</th>\n",
       "      <td>0.363636</td>\n",
       "    </tr>\n",
       "    <tr>\n",
       "      <th>hadip</th>\n",
       "      <td>0.296296</td>\n",
       "    </tr>\n",
       "    <tr>\n",
       "      <th>akipman</th>\n",
       "      <td>0.285714</td>\n",
       "    </tr>\n",
       "    <tr>\n",
       "      <th>Rich_Barton</th>\n",
       "      <td>0.272727</td>\n",
       "    </tr>\n",
       "    <tr>\n",
       "      <th>JenMsft</th>\n",
       "      <td>0.250000</td>\n",
       "    </tr>\n",
       "    <tr>\n",
       "      <th>funcOfJoe</th>\n",
       "      <td>0.200000</td>\n",
       "    </tr>\n",
       "    <tr>\n",
       "      <th>tarah</th>\n",
       "      <td>0.000000</td>\n",
       "    </tr>\n",
       "    <tr>\n",
       "      <th>eugenio_pace</th>\n",
       "      <td>0.000000</td>\n",
       "    </tr>\n",
       "    <tr>\n",
       "      <th>2morrowknight</th>\n",
       "      <td>0.000000</td>\n",
       "    </tr>\n",
       "  </tbody>\n",
       "</table>\n",
       "</div>"
      ],
      "text/plain": [
       "                        0\n",
       "LeslieFeinzaig   0.941176\n",
       "john_gabbert     0.923077\n",
       "ShaunaCausey     0.901961\n",
       "toddbishop       0.828571\n",
       "daryn            0.823529\n",
       "MissDestructo    0.820513\n",
       "juliesandler     0.807692\n",
       "rachelerman      0.800000\n",
       "heatherredman    0.800000\n",
       "etzioni          0.800000\n",
       "Ryanintheus      0.782609\n",
       "stevesi          0.761905\n",
       "lovelletters     0.739130\n",
       "mattmday         0.727273\n",
       "nhuntwalker      0.727273\n",
       "moniguzman       0.711111\n",
       "BradSmi          0.700000\n",
       "kirbywinfield    0.692308\n",
       "sarahstood       0.666667\n",
       "ashannstew       0.666667\n",
       "jinman           0.666667\n",
       "crashdev         0.648649\n",
       "KieranSnyder     0.645161\n",
       "sonalpmane       0.600000\n",
       "matt_oppy        0.594595\n",
       "mcolacurcio      0.588235\n",
       "DaveParkerSEA    0.588235\n",
       "Kristen_Hammy    0.571429\n",
       "marybethlambert  0.571429\n",
       "mattmcilwain     0.545455\n",
       "PeterHamilton    0.533333\n",
       "lanctot          0.500000\n",
       "SoGulley         0.482759\n",
       "gilbert          0.434783\n",
       "Jenerationy      0.421053\n",
       "RajSinghSeattle  0.416667\n",
       "danshapiro       0.400000\n",
       "medinism         0.363636\n",
       "hadip            0.296296\n",
       "akipman          0.285714\n",
       "Rich_Barton      0.272727\n",
       "JenMsft          0.250000\n",
       "funcOfJoe        0.200000\n",
       "tarah            0.000000\n",
       "eugenio_pace     0.000000\n",
       "2morrowknight    0.000000"
      ]
     },
     "execution_count": 37,
     "metadata": {},
     "output_type": "execute_result"
    }
   ],
   "source": [
    "# by node\n",
    "pd.DataFrame.from_dict(nx.reciprocity(topsNet,nodes=topsNet.nodes),orient='index').sort_values(0,ascending=False)"
   ]
  },
  {
   "cell_type": "markdown",
   "metadata": {},
   "source": [
    "Density y Reachability are related but not synonyms, as we can see in Figure 5.\n",
    "\n",
    "<figure>\n",
    "<img src=\"https://github.com/SocialAnalytics-StrategicIntelligence/SocialNet_analytics/raw/main/picsForSession/reachability-and-density.png\" style=\"width:70%\">\n",
    "<figcaption align = \"center\"> Figura 5. Reachability versus Density. \n",
    " </figcaption>\n",
    " <a href=\"https://www.researchgate.net/publication/42763973_Toward_a_Network_Perspective_of_the_Study_of_Resilience_in_Social-Ecological_Systems\">Fuente: Ecology and Society</a>\n",
    "</figure>"
   ]
  },
  {
   "cell_type": "markdown",
   "metadata": {},
   "source": [
    "## Exploration of network communities"
   ]
  },
  {
   "cell_type": "markdown",
   "metadata": {},
   "source": [
    "* **Average clustering coefficient**: is the average of the local clustering coefficients of the nodes. If all the neighbors of every node are connected among one another, you get 1; if none of them are connected you get zero. \n",
    "\n",
    "<figure>\n",
    "<img src=\"https://github.com/SocialAnalytics-StrategicIntelligence/SocialNet_analytics/raw/main/picsForSession/LocalClustCoeff.png\" style=\"width:70%\">\n",
    "<figcaption align = \"center\"> Figure 6. Average clustering coefficient. \n",
    " </figcaption>\n",
    " <a href=\"https://www.researchgate.net/publication/42763973_Toward_a_Network_Perspective_of_the_Study_of_Resilience_in_Social-Ecological_Systems\">Source: Ecology and Society</a>\n",
    "</figure>\n"
   ]
  },
  {
   "cell_type": "code",
   "execution_count": 38,
   "metadata": {},
   "outputs": [
    {
     "data": {
      "text/plain": [
       "0.6537018696117423"
      ]
     },
     "execution_count": 38,
     "metadata": {},
     "output_type": "execute_result"
    }
   ],
   "source": [
    "# count_zeros=False -> to make results compatible with R!\n",
    "nx.average_clustering(eliNet_giant,count_zeros=False)"
   ]
  },
  {
   "cell_type": "code",
   "execution_count": 39,
   "metadata": {},
   "outputs": [
    {
     "data": {
      "text/plain": [
       "0.8091184770981618"
      ]
     },
     "execution_count": 39,
     "metadata": {},
     "output_type": "execute_result"
    }
   ],
   "source": [
    "nx.average_clustering(tradeNet,count_zeros=False)"
   ]
  },
  {
   "cell_type": "code",
   "execution_count": 40,
   "metadata": {},
   "outputs": [
    {
     "data": {
      "text/plain": [
       "0.5705280020639293"
      ]
     },
     "execution_count": 40,
     "metadata": {},
     "output_type": "execute_result"
    }
   ],
   "source": [
    "nx.average_clustering(topsNet,count_zeros=False)"
   ]
  },
  {
   "cell_type": "markdown",
   "metadata": {},
   "source": [
    "* **Transitivity**: Tendency of local clustering."
   ]
  },
  {
   "cell_type": "code",
   "execution_count": 41,
   "metadata": {},
   "outputs": [
    {
     "data": {
      "text/plain": [
       "0.5829694323144105"
      ]
     },
     "execution_count": 41,
     "metadata": {},
     "output_type": "execute_result"
    }
   ],
   "source": [
    "# Probability  that two business men with a common business friend, are also friends.\n",
    "nx.transitivity(eliNet_giant)"
   ]
  },
  {
   "cell_type": "code",
   "execution_count": 42,
   "metadata": {},
   "outputs": [
    {
     "data": {
      "text/plain": [
       "0.6997204082237525"
      ]
     },
     "execution_count": 42,
     "metadata": {},
     "output_type": "execute_result"
    }
   ],
   "source": [
    "# Probability that two countries with a common trade partner, are also partners.\n",
    "\n",
    "nx.transitivity(tradeNet)"
   ]
  },
  {
   "cell_type": "code",
   "execution_count": 43,
   "metadata": {},
   "outputs": [
    {
     "data": {
      "text/plain": [
       "0.4351851851851852"
      ]
     },
     "execution_count": 43,
     "metadata": {},
     "output_type": "execute_result"
    }
   ],
   "source": [
    "# Probability that two tech guys with a common colleague, are also colleagues.\n",
    "nx.transitivity(topsNet)"
   ]
  },
  {
   "cell_type": "markdown",
   "metadata": {},
   "source": [
    "* **Assortativity (degree)**: it is a measure to see if nodes are connecting to other nodes similar in degree.  Closer to 1 means higher assortativity, closer to -1 diassortativity; while 0 is no assortitivity."
   ]
  },
  {
   "cell_type": "code",
   "execution_count": 44,
   "metadata": {},
   "outputs": [
    {
     "data": {
      "text/plain": [
       "-0.12086710760602014"
      ]
     },
     "execution_count": 44,
     "metadata": {},
     "output_type": "execute_result"
    }
   ],
   "source": [
    "nx.degree_assortativity_coefficient(eliNet_giant)"
   ]
  },
  {
   "cell_type": "code",
   "execution_count": 45,
   "metadata": {},
   "outputs": [
    {
     "data": {
      "text/plain": [
       "0.13597674389468284"
      ]
     },
     "execution_count": 45,
     "metadata": {},
     "output_type": "execute_result"
    }
   ],
   "source": [
    "nx.degree_assortativity_coefficient(tradeNet)"
   ]
  },
  {
   "cell_type": "code",
   "execution_count": 46,
   "metadata": {},
   "outputs": [
    {
     "data": {
      "text/plain": [
       "-0.2620402575553175"
      ]
     },
     "execution_count": 46,
     "metadata": {},
     "output_type": "execute_result"
    }
   ],
   "source": [
    "nx.degree_assortativity_coefficient(topsNet)"
   ]
  },
  {
   "cell_type": "markdown",
   "metadata": {},
   "source": [
    "You can also compute assortativity using an attribute of interest:"
   ]
  },
  {
   "cell_type": "code",
   "execution_count": 47,
   "metadata": {},
   "outputs": [
    {
     "data": {
      "text/plain": [
       "-0.07258064516129017"
      ]
     },
     "execution_count": 47,
     "metadata": {},
     "output_type": "execute_result"
    }
   ],
   "source": [
    "nx.attribute_assortativity_coefficient(eliNet_giant,'multi') # positive if tend to connect with same nationality."
   ]
  },
  {
   "cell_type": "code",
   "execution_count": 49,
   "metadata": {},
   "outputs": [
    {
     "data": {
      "text/plain": [
       "nan"
      ]
     },
     "execution_count": 49,
     "metadata": {},
     "output_type": "execute_result"
    }
   ],
   "source": [
    "nx.attribute_assortativity_coefficient(topsNet,'sex') # positive if tend to connect with same sex."
   ]
  },
  {
   "cell_type": "markdown",
   "metadata": {},
   "source": [
    "A **clique** can be understood a community of nodes where all of them are connected to one another.\n",
    "\n",
    "* How many cliques do we have?"
   ]
  },
  {
   "cell_type": "code",
   "execution_count": 50,
   "metadata": {},
   "outputs": [
    {
     "data": {
      "text/plain": [
       "1074"
      ]
     },
     "execution_count": 50,
     "metadata": {},
     "output_type": "execute_result"
    }
   ],
   "source": [
    "len(list(nx.enumerate_all_cliques(eliNet_giant)))"
   ]
  },
  {
   "cell_type": "code",
   "execution_count": 51,
   "metadata": {},
   "outputs": [],
   "source": [
    "all=nx.enumerate_all_cliques(tradeNet)"
   ]
  },
  {
   "cell_type": "code",
   "execution_count": 52,
   "metadata": {},
   "outputs": [
    {
     "data": {
      "text/plain": [
       "<generator object enumerate_all_cliques at 0x10ff578b0>"
      ]
     },
     "execution_count": 52,
     "metadata": {},
     "output_type": "execute_result"
    }
   ],
   "source": [
    "all # [a for a in all}"
   ]
  },
  {
   "cell_type": "code",
   "execution_count": 53,
   "metadata": {},
   "outputs": [
    {
     "data": {
      "text/plain": [
       "153"
      ]
     },
     "execution_count": 53,
     "metadata": {},
     "output_type": "execute_result"
    }
   ],
   "source": [
    "#len(list(nx.enumerate_all_cliques(topsNet)))\n",
    "len(list(nx.find_cliques_recursive(topsNet)))"
   ]
  },
  {
   "cell_type": "markdown",
   "metadata": {},
   "source": [
    "If a clique in the network can not be bigger is you add another node, then you have a **maximal clique**.\n",
    "\n",
    "<center><img src=\"https://github.com/EvansDataScience/CTforGA_Networks/raw/main/cliqueMaximal.png\" width=\"500\"></center>\n",
    "\n",
    "* How many maximal cliques are there in this network?"
   ]
  },
  {
   "cell_type": "code",
   "execution_count": 54,
   "metadata": {},
   "outputs": [
    {
     "data": {
      "text/plain": [
       "28"
      ]
     },
     "execution_count": 54,
     "metadata": {},
     "output_type": "execute_result"
    }
   ],
   "source": [
    "sum(1 for _ in nx.find_cliques(eliNet_giant))"
   ]
  },
  {
   "cell_type": "code",
   "execution_count": 55,
   "metadata": {},
   "outputs": [
    {
     "data": {
      "text/plain": [
       "123"
      ]
     },
     "execution_count": 55,
     "metadata": {},
     "output_type": "execute_result"
    }
   ],
   "source": [
    "sum(1 for _ in nx.find_cliques(tradeNet))"
   ]
  },
  {
   "cell_type": "code",
   "execution_count": 56,
   "metadata": {},
   "outputs": [
    {
     "ename": "NetworkXNotImplemented",
     "evalue": "not implemented for directed type",
     "output_type": "error",
     "traceback": [
      "\u001b[0;31m---------------------------------------------------------------------------\u001b[0m",
      "\u001b[0;31mNetworkXNotImplemented\u001b[0m                    Traceback (most recent call last)",
      "Cell \u001b[0;32mIn[56], line 1\u001b[0m\n\u001b[0;32m----> 1\u001b[0m \u001b[38;5;28msum\u001b[39m(\u001b[38;5;241m1\u001b[39m \u001b[38;5;28;01mfor\u001b[39;00m _ \u001b[38;5;129;01min\u001b[39;00m \u001b[43mnx\u001b[49m\u001b[38;5;241;43m.\u001b[39;49m\u001b[43mfind_cliques\u001b[49m\u001b[43m(\u001b[49m\u001b[43mtopsNet\u001b[49m\u001b[43m)\u001b[49m)\n",
      "File \u001b[0;32m<class 'networkx.utils.decorators.argmap'> compilation 182:3\u001b[0m, in \u001b[0;36margmap_find_cliques_178\u001b[0;34m(G, nodes, backend, **backend_kwargs)\u001b[0m\n\u001b[1;32m      1\u001b[0m \u001b[38;5;28;01mimport\u001b[39;00m \u001b[38;5;21;01mbz2\u001b[39;00m\n\u001b[1;32m      2\u001b[0m \u001b[38;5;28;01mimport\u001b[39;00m \u001b[38;5;21;01mcollections\u001b[39;00m\n\u001b[0;32m----> 3\u001b[0m \u001b[38;5;28;01mimport\u001b[39;00m \u001b[38;5;21;01mgzip\u001b[39;00m\n\u001b[1;32m      4\u001b[0m \u001b[38;5;28;01mimport\u001b[39;00m \u001b[38;5;21;01minspect\u001b[39;00m\n\u001b[1;32m      5\u001b[0m \u001b[38;5;28;01mimport\u001b[39;00m \u001b[38;5;21;01mitertools\u001b[39;00m\n",
      "File \u001b[0;32m~/opt/anaconda3/envs/ASIES/lib/python3.11/site-packages/networkx/utils/decorators.py:92\u001b[0m, in \u001b[0;36mnot_implemented_for.<locals>._not_implemented_for\u001b[0;34m(g)\u001b[0m\n\u001b[1;32m     88\u001b[0m \u001b[38;5;28;01mdef\u001b[39;00m \u001b[38;5;21m_not_implemented_for\u001b[39m(g):\n\u001b[1;32m     89\u001b[0m     \u001b[38;5;28;01mif\u001b[39;00m (mval \u001b[38;5;129;01mis\u001b[39;00m \u001b[38;5;28;01mNone\u001b[39;00m \u001b[38;5;129;01mor\u001b[39;00m mval \u001b[38;5;241m==\u001b[39m g\u001b[38;5;241m.\u001b[39mis_multigraph()) \u001b[38;5;129;01mand\u001b[39;00m (\n\u001b[1;32m     90\u001b[0m         dval \u001b[38;5;129;01mis\u001b[39;00m \u001b[38;5;28;01mNone\u001b[39;00m \u001b[38;5;129;01mor\u001b[39;00m dval \u001b[38;5;241m==\u001b[39m g\u001b[38;5;241m.\u001b[39mis_directed()\n\u001b[1;32m     91\u001b[0m     ):\n\u001b[0;32m---> 92\u001b[0m         \u001b[38;5;28;01mraise\u001b[39;00m nx\u001b[38;5;241m.\u001b[39mNetworkXNotImplemented(errmsg)\n\u001b[1;32m     94\u001b[0m     \u001b[38;5;28;01mreturn\u001b[39;00m g\n",
      "\u001b[0;31mNetworkXNotImplemented\u001b[0m: not implemented for directed type"
     ]
    }
   ],
   "source": [
    "sum(1 for _ in nx.find_cliques(topsNet))"
   ]
  },
  {
   "cell_type": "markdown",
   "metadata": {},
   "source": [
    "This is how you see every maximal clique:"
   ]
  },
  {
   "cell_type": "code",
   "execution_count": 57,
   "metadata": {},
   "outputs": [
    {
     "name": "stdout",
     "output_type": "stream",
     "text": [
      "['Wiese', 'De La Puente', 'Sotomayor', 'Rizo Patron', 'Berckemeyer', 'Moreyra']\n",
      "['Wiese', 'De La Puente', 'Montero', 'Graña', 'Miro Quesada', 'Beoutis Ledesma']\n",
      "['Wiese', 'De La Puente', 'Montero', 'Moreyra']\n",
      "['Fort', 'Sotomayor', 'Picaso', 'Cilloniz']\n",
      "['Fort', 'Sotomayor', 'Picaso', 'Moreyra']\n",
      "['Fort', 'Sotomayor', 'De La Puente', 'Moreyra']\n",
      "['Fort', 'Romero', 'Benavides', 'Bustamante', 'Graña', 'Miro Quesada', 'De La Puente', 'Piazza']\n",
      "['Fort', 'Romero', 'Raffo', 'Bentin', 'Onrubia', 'Woodman Pollit', 'Nicolini', 'Llosa Barber']\n",
      "['Fort', 'Romero', 'Raffo', 'Bentin', 'Onrubia', 'Brescia', 'Moreyra']\n",
      "['Fort', 'Romero', 'Bustamante', 'Moreyra', 'De La Puente']\n",
      "['Fort', 'Romero', 'Piazza', 'Llosa Barber']\n",
      "['Fort', 'Picaso', 'Bustamante', 'Cilloniz']\n",
      "['Fort', 'Picaso', 'Bustamante', 'Moreyra']\n",
      "['Fort', 'Beoutis Ledesma', 'Piazza', 'Miro Quesada', 'Graña', 'De La Puente']\n",
      "['Fort', 'Beoutis Ledesma', 'Piazza', 'Llosa Barber']\n",
      "['Montero', 'Bustamante', 'Ferreyros']\n",
      "['Montero', 'Bustamante', 'Picaso', 'Moreyra']\n",
      "['Montero', 'Bustamante', 'De La Puente', 'Graña', 'Miro Quesada']\n",
      "['Montero', 'Bustamante', 'De La Puente', 'Moreyra']\n",
      "['Rizo Patron', 'Nicolini', 'Romero']\n",
      "['Rizo Patron', 'Romero', 'Berckemeyer', 'De La Puente', 'Moreyra']\n",
      "['Berckemeyer', 'Romero', 'Raffo', 'Bentin', 'Onrubia', 'Woodman Pollit', 'Llosa Barber']\n",
      "['Berckemeyer', 'Romero', 'Raffo', 'Bentin', 'Onrubia', 'Brescia', 'Montori', 'Moreyra']\n",
      "['Ferreyros', 'Bentin']\n",
      "['Montori', 'Cilloniz', 'Bustamante']\n",
      "['Montori', 'Romero', 'Bustamante', 'Moreyra']\n",
      "['Michell', 'Graña', 'Miro Quesada']\n",
      "['Wong Lu', 'Bentin']\n"
     ]
    }
   ],
   "source": [
    "for a in nx.find_cliques(eliNet_giant):\n",
    "    print (a)"
   ]
  },
  {
   "cell_type": "markdown",
   "metadata": {},
   "source": [
    "You can find the size of the _maximum clique_, largest clique in the graph, like this:"
   ]
  },
  {
   "cell_type": "code",
   "execution_count": 58,
   "metadata": {},
   "outputs": [
    {
     "data": {
      "text/plain": [
       "8"
      ]
     },
     "execution_count": 58,
     "metadata": {},
     "output_type": "execute_result"
    }
   ],
   "source": [
    "max(len(c) for c in nx.find_cliques(eliNet_giant))"
   ]
  },
  {
   "cell_type": "code",
   "execution_count": 59,
   "metadata": {},
   "outputs": [
    {
     "data": {
      "text/plain": [
       "51"
      ]
     },
     "execution_count": 59,
     "metadata": {},
     "output_type": "execute_result"
    }
   ],
   "source": [
    "max(len(c) for c in nx.find_cliques(tradeNet))"
   ]
  },
  {
   "cell_type": "code",
   "execution_count": 60,
   "metadata": {},
   "outputs": [
    {
     "ename": "NetworkXNotImplemented",
     "evalue": "not implemented for directed type",
     "output_type": "error",
     "traceback": [
      "\u001b[0;31m---------------------------------------------------------------------------\u001b[0m",
      "\u001b[0;31mNetworkXNotImplemented\u001b[0m                    Traceback (most recent call last)",
      "Cell \u001b[0;32mIn[60], line 1\u001b[0m\n\u001b[0;32m----> 1\u001b[0m \u001b[38;5;28mmax\u001b[39m(\u001b[38;5;28mlen\u001b[39m(c) \u001b[38;5;28;01mfor\u001b[39;00m c \u001b[38;5;129;01min\u001b[39;00m \u001b[43mnx\u001b[49m\u001b[38;5;241;43m.\u001b[39;49m\u001b[43mfind_cliques\u001b[49m\u001b[43m(\u001b[49m\u001b[43mtopsNet\u001b[49m\u001b[43m)\u001b[49m)\n",
      "File \u001b[0;32m<class 'networkx.utils.decorators.argmap'> compilation 182:3\u001b[0m, in \u001b[0;36margmap_find_cliques_178\u001b[0;34m(G, nodes, backend, **backend_kwargs)\u001b[0m\n\u001b[1;32m      1\u001b[0m \u001b[38;5;28;01mimport\u001b[39;00m \u001b[38;5;21;01mbz2\u001b[39;00m\n\u001b[1;32m      2\u001b[0m \u001b[38;5;28;01mimport\u001b[39;00m \u001b[38;5;21;01mcollections\u001b[39;00m\n\u001b[0;32m----> 3\u001b[0m \u001b[38;5;28;01mimport\u001b[39;00m \u001b[38;5;21;01mgzip\u001b[39;00m\n\u001b[1;32m      4\u001b[0m \u001b[38;5;28;01mimport\u001b[39;00m \u001b[38;5;21;01minspect\u001b[39;00m\n\u001b[1;32m      5\u001b[0m \u001b[38;5;28;01mimport\u001b[39;00m \u001b[38;5;21;01mitertools\u001b[39;00m\n",
      "File \u001b[0;32m~/opt/anaconda3/envs/ASIES/lib/python3.11/site-packages/networkx/utils/decorators.py:92\u001b[0m, in \u001b[0;36mnot_implemented_for.<locals>._not_implemented_for\u001b[0;34m(g)\u001b[0m\n\u001b[1;32m     88\u001b[0m \u001b[38;5;28;01mdef\u001b[39;00m \u001b[38;5;21m_not_implemented_for\u001b[39m(g):\n\u001b[1;32m     89\u001b[0m     \u001b[38;5;28;01mif\u001b[39;00m (mval \u001b[38;5;129;01mis\u001b[39;00m \u001b[38;5;28;01mNone\u001b[39;00m \u001b[38;5;129;01mor\u001b[39;00m mval \u001b[38;5;241m==\u001b[39m g\u001b[38;5;241m.\u001b[39mis_multigraph()) \u001b[38;5;129;01mand\u001b[39;00m (\n\u001b[1;32m     90\u001b[0m         dval \u001b[38;5;129;01mis\u001b[39;00m \u001b[38;5;28;01mNone\u001b[39;00m \u001b[38;5;129;01mor\u001b[39;00m dval \u001b[38;5;241m==\u001b[39m g\u001b[38;5;241m.\u001b[39mis_directed()\n\u001b[1;32m     91\u001b[0m     ):\n\u001b[0;32m---> 92\u001b[0m         \u001b[38;5;28;01mraise\u001b[39;00m nx\u001b[38;5;241m.\u001b[39mNetworkXNotImplemented(errmsg)\n\u001b[1;32m     94\u001b[0m     \u001b[38;5;28;01mreturn\u001b[39;00m g\n",
      "\u001b[0;31mNetworkXNotImplemented\u001b[0m: not implemented for directed type"
     ]
    }
   ],
   "source": [
    "max(len(c) for c in nx.find_cliques(topsNet))"
   ]
  },
  {
   "cell_type": "markdown",
   "metadata": {},
   "source": [
    "You can see each maximum clique like this:"
   ]
  },
  {
   "cell_type": "code",
   "execution_count": 61,
   "metadata": {},
   "outputs": [
    {
     "data": {
      "text/plain": [
       "[['Fort',\n",
       "  'Romero',\n",
       "  'Benavides',\n",
       "  'Bustamante',\n",
       "  'Graña',\n",
       "  'Miro Quesada',\n",
       "  'De La Puente',\n",
       "  'Piazza'],\n",
       " ['Fort',\n",
       "  'Romero',\n",
       "  'Raffo',\n",
       "  'Bentin',\n",
       "  'Onrubia',\n",
       "  'Woodman Pollit',\n",
       "  'Nicolini',\n",
       "  'Llosa Barber'],\n",
       " ['Berckemeyer',\n",
       "  'Romero',\n",
       "  'Raffo',\n",
       "  'Bentin',\n",
       "  'Onrubia',\n",
       "  'Brescia',\n",
       "  'Montori',\n",
       "  'Moreyra']]"
      ]
     },
     "execution_count": 61,
     "metadata": {},
     "output_type": "execute_result"
    }
   ],
   "source": [
    "[c for c in nx.find_cliques(eliNet_giant) if len(c) == max(len(c) for c in nx.find_cliques(eliNet_giant))]"
   ]
  },
  {
   "cell_type": "markdown",
   "metadata": {},
   "source": [
    "If a network presents cliques makes you suspect that there can be **communities**.\n",
    "\n",
    "This is a huge field of research, let me me show you one of the algorithms known as the [_Louvain method_](https://perso.uclouvain.be/vincent.blondel/research/louvain.html).\n",
    "\n",
    "This algorithm can be installed using **pip install python-louvain**, and import it using **community**.\n"
   ]
  },
  {
   "cell_type": "code",
   "execution_count": 69,
   "metadata": {},
   "outputs": [
    {
     "data": {
      "text/plain": [
       "{'Romero': 2,\n",
       " 'Graña': 0,\n",
       " 'Miro Quesada': 0,\n",
       " 'Moreyra': 1,\n",
       " 'Fort': 0,\n",
       " 'De La Puente': 0,\n",
       " 'Wiese': 1,\n",
       " 'Onrubia': 2,\n",
       " 'Brescia': 2,\n",
       " 'Nicolini': 2,\n",
       " 'Montero': 0,\n",
       " 'Picaso': 1,\n",
       " 'Bentin': 2,\n",
       " 'Benavides': 0,\n",
       " 'Bustamante': 0,\n",
       " 'Woodman Pollit': 2,\n",
       " 'Raffo': 2,\n",
       " 'Piazza': 0,\n",
       " 'Berckemeyer': 2,\n",
       " 'Llosa Barber': 2,\n",
       " 'Beoutis Ledesma': 0,\n",
       " 'Rizo Patron': 1,\n",
       " 'Montori': 2,\n",
       " 'Sotomayor': 1,\n",
       " 'Cilloniz': 1,\n",
       " 'Ferreyros': 0,\n",
       " 'Michell': 0,\n",
       " 'Wong Lu': 2}"
      ]
     },
     "execution_count": 69,
     "metadata": {},
     "output_type": "execute_result"
    }
   ],
   "source": [
    "import community \n",
    "parts = community.best_partition(eliNet_giant)\n",
    "parts"
   ]
  },
  {
   "cell_type": "code",
   "execution_count": 82,
   "metadata": {},
   "outputs": [
    {
     "data": {
      "text/plain": [
       "{'Sotomayor': 2,\n",
       " 'Fort': 2,\n",
       " 'Rizo Patron': 2,\n",
       " 'Picaso': 2,\n",
       " 'Cilloniz': 2,\n",
       " 'Moreyra': 2,\n",
       " 'Woodman Pollit': 1,\n",
       " 'Wong Lu': 1,\n",
       " 'Raffo': 1,\n",
       " 'Nicolini': 1,\n",
       " 'Bentin': 1,\n",
       " 'Berckemeyer': 1,\n",
       " 'Llosa Barber': 1,\n",
       " 'Brescia': 1,\n",
       " 'Onrubia': 1,\n",
       " 'Montori': 1,\n",
       " 'Romero': 1,\n",
       " 'Benavides': 0,\n",
       " 'Wiese': 0,\n",
       " 'Montero': 0,\n",
       " 'Bustamante': 0,\n",
       " 'Ferreyros': 0,\n",
       " 'Graña': 0,\n",
       " 'Michell': 0,\n",
       " 'Miro Quesada': 0,\n",
       " 'Beoutis Ledesma': 0,\n",
       " 'De La Puente': 0,\n",
       " 'Piazza': 0}"
      ]
     },
     "execution_count": 82,
     "metadata": {},
     "output_type": "execute_result"
    }
   ],
   "source": [
    "from collections import ChainMap\n",
    "\n",
    "data = dict(ChainMap(*[{k:x for k in y} for x,y in zip(range(len(nx.community.louvain_communities(eliNet_giant, seed=123))),\n",
    "                                 nx.community.louvain_communities(eliNet_giant, seed=123))]))\n",
    "data"
   ]
  },
  {
   "cell_type": "markdown",
   "metadata": {},
   "source": [
    "You can add that value as an attribute:"
   ]
  },
  {
   "cell_type": "code",
   "execution_count": null,
   "metadata": {},
   "outputs": [],
   "source": [
    "nx.set_node_attributes(eliNet_giant, parts,'community')"
   ]
  },
  {
   "cell_type": "markdown",
   "metadata": {},
   "source": [
    "Now plot this attribute:"
   ]
  },
  {
   "cell_type": "code",
   "execution_count": null,
   "metadata": {},
   "outputs": [],
   "source": [
    "pos=nx.spring_layout(eliNet_giant, k=0.2) \n",
    "plt.figure(figsize=(8,8))\n",
    "color_map = plt.get_cmap(\"cool\")\n",
    "valuesForColors=[n[1]['community'] for n in eliNet_giant.nodes(data=True)]\n",
    "nx.draw(eliNet_giant,node_color=valuesForColors,cmap=color_map,with_labels=True,edge_color='lightblue')"
   ]
  },
  {
   "cell_type": "markdown",
   "metadata": {},
   "source": [
    "Let's turn our attention to the nodes and their roles in the network."
   ]
  },
  {
   "cell_type": "markdown",
   "metadata": {},
   "source": [
    "<a id='part23'></a>\n",
    "\n",
    "## Exploration of network actors"
   ]
  },
  {
   "cell_type": "code",
   "execution_count": null,
   "metadata": {},
   "outputs": [],
   "source": [
    "# Computing centrality measures:\n",
    "degr=nx.degree_centrality(eliNet_giant)  # based on connections count\n",
    "clos=nx.closeness_centrality(eliNet_giant) # \"speed\" to access the rest\n",
    "betw=nx.betweenness_centrality(eliNet_giant,normalized=True) # \"control flow\" among the network nodes\n",
    "eige=nx.eigenvector_centrality(eliNet_giant) # central nodes connected to well connected nodes "
   ]
  },
  {
   "cell_type": "code",
   "execution_count": null,
   "metadata": {},
   "outputs": [],
   "source": [
    "# what do we have?\n",
    "degr,clos,betw,eige"
   ]
  },
  {
   "cell_type": "markdown",
   "metadata": {},
   "source": [
    "Let's save thosoe dicts as attributes:"
   ]
  },
  {
   "cell_type": "code",
   "execution_count": null,
   "metadata": {},
   "outputs": [],
   "source": [
    "nx.set_node_attributes(eliNet_giant, degr,'degree')\n",
    "nx.set_node_attributes(eliNet_giant, clos,'closeness')\n",
    "nx.set_node_attributes(eliNet_giant, betw,'betweenness')\n",
    "nx.set_node_attributes(eliNet_giant, eige,'eigenvector')"
   ]
  },
  {
   "cell_type": "code",
   "execution_count": null,
   "metadata": {},
   "outputs": [],
   "source": [
    "eliNet_giant.nodes.data()"
   ]
  },
  {
   "cell_type": "code",
   "execution_count": null,
   "metadata": {},
   "outputs": [],
   "source": [
    "[i for i in eliNet_giant.nodes(data=True)]"
   ]
  },
  {
   "cell_type": "code",
   "execution_count": null,
   "metadata": {},
   "outputs": [],
   "source": [
    "import pandas as pd\n",
    "eliteNodes_DF=pd.DataFrame([i[1] for i in eliNet_giant.nodes(data=True)], index=[i[0] for i in eliNet_giant.nodes(data=True)])\n",
    "eliteNodes_DF"
   ]
  },
  {
   "cell_type": "code",
   "execution_count": null,
   "metadata": {},
   "outputs": [],
   "source": [
    "fig, ax = plt.subplots(figsize=(10,10))\n",
    "\n",
    "ax.scatter(eliteNodes_DF.betweenness, eliteNodes_DF.closeness,s=(eliteNodes_DF.degree+1.3)**10,\n",
    "           c=eliteNodes_DF.eigenvector,\n",
    "           cmap=plt.get_cmap('YlOrRd'), alpha=0.6)\n",
    "\n",
    "valsForAnnotate=zip(eliteNodes_DF.index,eliteNodes_DF.betweenness,eliteNodes_DF.closeness)\n",
    "for name,coordX,coordY in valsForAnnotate:\n",
    "    ax.annotate(name, (coordX,coordY),alpha=0.5)\n",
    "    \n",
    "plt.title(\"scatterplot (size for degree of node, color for eigenvalue)\")\n",
    "plt.xlabel(\"betweenness\")\n",
    "plt.ylabel(\"closeness\")\n",
    "plt.show()"
   ]
  },
  {
   "cell_type": "markdown",
   "metadata": {},
   "source": [
    "### Egonet"
   ]
  },
  {
   "cell_type": "markdown",
   "metadata": {},
   "source": [
    "The node with the highest degree could be considered a _hub_ in the network:"
   ]
  },
  {
   "cell_type": "code",
   "execution_count": null,
   "metadata": {},
   "outputs": [],
   "source": [
    "# degr is a dictionary:\n",
    "max(degr.keys(), key=(lambda k: degr[k]))\n",
    "\n",
    "# or you can try:\n",
    "#eliteNodes_DF['degree'].idxmax()"
   ]
  },
  {
   "cell_type": "markdown",
   "metadata": {},
   "source": [
    "We can plot the neighbors of the hub, _its ego network_:"
   ]
  },
  {
   "cell_type": "code",
   "execution_count": null,
   "metadata": {},
   "outputs": [],
   "source": [
    "# Determine the hub name:\n",
    "HubNode=max(degr.keys(), key=(lambda k: degr[k]))\n",
    "\n",
    "# Get ego network of Hub\n",
    "HubEgonet=nx.ego_graph(eliNet_giant,HubNode)\n",
    "\n",
    "# prepare to plot:\n",
    "\n",
    "## positions of the nodes\n",
    "pos=nx.spring_layout(HubEgonet)\n",
    "\n",
    "## plot whole ego network\n",
    "nx.draw(HubEgonet,pos,node_color='b',node_size=800,with_labels=True, alpha=0.5,node_shape='^')\n",
    "\n",
    "## make the hub salient\n",
    "nx.draw_networkx_nodes(HubEgonet,pos,nodelist=[HubNode],node_size=2000,node_color='r')\n",
    "\n",
    "plt.show()"
   ]
  },
  {
   "cell_type": "markdown",
   "metadata": {},
   "source": [
    "### Coonectivity"
   ]
  },
  {
   "cell_type": "markdown",
   "metadata": {},
   "source": [
    "Can this network be disconnected? \n",
    "If so, we can compute the minimum number of nodes that must be removed to disconnect the network (create at least two components:"
   ]
  },
  {
   "cell_type": "code",
   "execution_count": null,
   "metadata": {},
   "outputs": [],
   "source": [
    "nx.node_connectivity(eliNet_giant)"
   ]
  },
  {
   "cell_type": "markdown",
   "metadata": {},
   "source": [
    "Who is the sole node with the power to break the network?"
   ]
  },
  {
   "cell_type": "code",
   "execution_count": null,
   "metadata": {},
   "outputs": [],
   "source": [
    "list(nx.articulation_points(eliNet_giant))"
   ]
  },
  {
   "cell_type": "markdown",
   "metadata": {},
   "source": [
    "We can highlight the articulation node in the giant component:"
   ]
  },
  {
   "cell_type": "code",
   "execution_count": null,
   "metadata": {},
   "outputs": [],
   "source": [
    "# saving the cut point\n",
    "cutPoint=list(nx.articulation_points(eliNet_giant))\n",
    "\n",
    "# positions for all the nodes\n",
    "pos=nx.spring_layout(eliNet_giant,k=0.1)\n",
    "\n",
    "# sizes for nodes\n",
    "SALIENT, NORMAL=(2000,800)\n",
    "\n",
    "# plot all nodes\n",
    "nx.draw(eliNet_giant,pos,node_color='b',node_size=NORMAL,with_labels=True, alpha=0.5,node_shape='^')\n",
    "\n",
    "# make the cut salient:\n",
    "nx.draw_networkx_nodes(eliNet_giant,pos,nodelist=cutPoint,node_size=SALIENT,node_color='r')\n",
    "plt.show()"
   ]
  },
  {
   "cell_type": "code",
   "execution_count": null,
   "metadata": {},
   "outputs": [],
   "source": []
  }
 ],
 "metadata": {
  "hide_input": false,
  "kernelspec": {
   "display_name": "Python 3 (ipykernel)",
   "language": "python",
   "name": "python3"
  },
  "language_info": {
   "codemirror_mode": {
    "name": "ipython",
    "version": 3
   },
   "file_extension": ".py",
   "mimetype": "text/x-python",
   "name": "python",
   "nbconvert_exporter": "python",
   "pygments_lexer": "ipython3",
   "version": "3.11.9"
  }
 },
 "nbformat": 4,
 "nbformat_minor": 4
}
