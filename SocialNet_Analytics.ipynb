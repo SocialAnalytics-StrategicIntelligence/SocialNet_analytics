{
 "cells": [
  {
   "cell_type": "markdown",
   "metadata": {},
   "source": [
    "<img src=\"https://i.imgur.com/6U6q5jQ.png\"/>\n",
    "\n"
   ]
  },
  {
   "cell_type": "markdown",
   "metadata": {},
   "source": [
    "# Mining Network data\n",
    "\n",
    "We have networks available. Let's get some information out of them.\n",
    "\n",
    "* This is the data about Peruvian elites:"
   ]
  },
  {
   "cell_type": "code",
   "execution_count": null,
   "metadata": {},
   "outputs": [],
   "source": [
    "import wget\n",
    "import networkx as nx\n",
    "import os\n",
    "\n",
    "GitLocation=\"https://github.com/SocialAnalytics-StrategicIntelligence/SocialNet_analytics/raw/main/graphFiles/\"\n",
    "URL1 = GitLocation+\"EliteNet.graphml\"\n",
    "\n",
    "theFile1=os.path.join('graphFiles','EliteNet.graphml')\n",
    "\n",
    "\n",
    "if os.path.exists(theFile1):\n",
    "    os.remove(theFile1) # if exist, remove it directly\n",
    "wget.download(URL1, theFile1) # download it to the specific path.\n",
    "eliNet=nx.read_graphml(theFile1)"
   ]
  },
  {
   "cell_type": "markdown",
   "metadata": {},
   "source": [
    "* This is the data about international trading"
   ]
  },
  {
   "cell_type": "code",
   "execution_count": null,
   "metadata": {},
   "outputs": [],
   "source": [
    "URL2 = GitLocation+\"trade_graph.graphml\"\n",
    "\n",
    "theFile2=os.path.join('graphFiles','trade_graph.graphml')\n",
    "\n",
    "\n",
    "if os.path.exists(theFile2):\n",
    "    os.remove(theFile2) \n",
    "wget.download(URL2, theFile2)\n",
    "tradeNet=nx.read_graphml(theFile2)"
   ]
  },
  {
   "cell_type": "markdown",
   "metadata": {},
   "source": [
    "* I have also prepared a network from [this article](https://www.builtinseattle.com/2018/08/06/50-seattle-tech-twitter-accounts-to-follow). There, we have a list of people considered key technological players in Seattle. The article gives their Twitter accounts, so I created a network using those accounts, the links meaning _someone follows someone on Twitter_."
   ]
  },
  {
   "cell_type": "code",
   "execution_count": null,
   "metadata": {},
   "outputs": [],
   "source": [
    "from IPython.display import IFrame\n",
    "IFrame('https://docs.google.com/spreadsheets/d/e/2PACX-1vQaaNQb2frjnlt0fPSBQhp5tNydB0a9ibp98sblBn6OfvGd8vsx8cfHb4w8Cm_qC3EIeYFby_zNQBoK/pubhtml', 800, 350)"
   ]
  },
  {
   "cell_type": "code",
   "execution_count": null,
   "metadata": {},
   "outputs": [],
   "source": [
    "URL3 = GitLocation+ \"seattleTop.xlsx\"\n",
    "\n",
    "import pandas as pd\n",
    "\n",
    "# reading in Pandas\n",
    "adjacency=pd.read_excel(URL3,   \n",
    "                        index_col=0,  # la columna '0' guarda los nombres\n",
    "                        sheet_name='adjacency') # la tabla tiene este nombre\n",
    "\n",
    "# creating as directed network\n",
    "topsNet=nx.from_pandas_adjacency(adjacency,create_using=nx.DiGraph)"
   ]
  },
  {
   "cell_type": "markdown",
   "metadata": {},
   "source": [
    "The analytics can be done in two ways:\n",
    "- At the network level\n",
    "- At the node level"
   ]
  },
  {
   "cell_type": "markdown",
   "metadata": {},
   "source": [
    "# Network Level measures"
   ]
  },
  {
   "cell_type": "code",
   "execution_count": null,
   "metadata": {},
   "outputs": [],
   "source": [
    "type(eliNet), type(tradeNet), type(topsNet)"
   ]
  },
  {
   "cell_type": "markdown",
   "metadata": {},
   "source": [
    "## Connectedness"
   ]
  },
  {
   "cell_type": "code",
   "execution_count": null,
   "metadata": {},
   "outputs": [],
   "source": [
    "nx.is_connected(eliNet), nx.is_connected(tradeNet)"
   ]
  },
  {
   "cell_type": "code",
   "execution_count": null,
   "metadata": {},
   "outputs": [],
   "source": [
    "nx.is_weakly_connected(topsNet), nx.is_strongly_connected(topsNet)"
   ]
  },
  {
   "cell_type": "markdown",
   "metadata": {},
   "source": [
    "If the **EliteNet** is not connected, it has components:"
   ]
  },
  {
   "cell_type": "code",
   "execution_count": null,
   "metadata": {},
   "outputs": [],
   "source": [
    "# how many?\n",
    "numComponents=nx.number_connected_components(eliNet)\n",
    "numComponents"
   ]
  },
  {
   "cell_type": "markdown",
   "metadata": {},
   "source": [
    "Directed neworks can be weakly connected (WK) or strongly conneced (SC). Figure 1 shows the SC-components in a directed net.\n",
    "    \n",
    "<figure>\n",
    "<img src=\"https://github.com/SocialAnalytics-StrategicIntelligence/SocialNet_analytics/raw/main/picsForSession/strongly_connected.png\" style=\"width:70%\">\n",
    "<figcaption align = \"center\"> Figura 1. Strongly coonected networks (directed). \n",
    " </figcaption>\n",
    " <a href=\"https://medium.com/@jane.vdplas/https-medium-com-protium-digital-what-are-network-effects-4f1ec159b6\">Source: Medium</a>\n",
    "</figure>"
   ]
  },
  {
   "cell_type": "markdown",
   "metadata": {},
   "source": [
    "How many strongly connected components in **topsNet**?"
   ]
  },
  {
   "cell_type": "code",
   "execution_count": null,
   "metadata": {},
   "outputs": [],
   "source": [
    "nx.number_strongly_connected_components(topsNet)"
   ]
  },
  {
   "cell_type": "markdown",
   "metadata": {},
   "source": [
    "What nodes are in each component of _EliteNet_?:"
   ]
  },
  {
   "cell_type": "code",
   "execution_count": null,
   "metadata": {},
   "outputs": [],
   "source": [
    "for c in nx.connected_components(eliNet):\n",
    "    print (c)"
   ]
  },
  {
   "cell_type": "markdown",
   "metadata": {},
   "source": [
    "We could the component label as an attribute:"
   ]
  },
  {
   "cell_type": "code",
   "execution_count": null,
   "metadata": {},
   "outputs": [],
   "source": [
    "componentAttr=dict()\n",
    "for people,component in zip(nx.connected_components(eliNet),range(8)): #range to label with an INTEGER\n",
    "    componentAttr.update({p:component for p in people} )\n",
    "componentAttr"
   ]
  },
  {
   "cell_type": "markdown",
   "metadata": {},
   "source": [
    "We use the dictionary to add the attribute:"
   ]
  },
  {
   "cell_type": "code",
   "execution_count": null,
   "metadata": {},
   "outputs": [],
   "source": [
    "nx.set_node_attributes(eliNet, componentAttr,'component')"
   ]
  },
  {
   "cell_type": "markdown",
   "metadata": {},
   "source": [
    "A visual representation follows:"
   ]
  },
  {
   "cell_type": "code",
   "execution_count": null,
   "metadata": {},
   "outputs": [],
   "source": [
    "import matplotlib.pyplot as plt\n",
    "\n",
    "pos=nx.spring_layout(eliNet, k=0.3) \n",
    "plt.figure(figsize=(8,8))\n",
    "color_map = plt.get_cmap(\"cool\")\n",
    "valuesForColors=[n[1]['component'] for n in eliNet.nodes(data=True)]\n",
    "nx.draw(eliNet,node_color=valuesForColors,cmap=color_map,with_labels=True,edge_color='lightblue',pos=pos)"
   ]
  },
  {
   "cell_type": "code",
   "execution_count": null,
   "metadata": {},
   "outputs": [],
   "source": [
    "componentAttr=dict()\n",
    "for people,component in zip(nx.strongly_connected_components(topsNet),range(5)): \n",
    "    componentAttr.update({p:component for p in people} )\n",
    "\n",
    "nx.set_node_attributes(topsNet, componentAttr,'component')\n",
    "pos=nx.spring_layout(topsNet, k=0.3) \n",
    "plt.figure(figsize=(8,8))\n",
    "color_map = plt.get_cmap(\"cool\")\n",
    "valuesForColors=[n[1]['component'] for n in topsNet.nodes(data=True)]\n",
    "nx.draw(topsNet,node_color=valuesForColors,cmap=color_map,with_labels=True,edge_color='lightblue',pos=pos)"
   ]
  },
  {
   "cell_type": "markdown",
   "metadata": {},
   "source": [
    "### Giant component"
   ]
  },
  {
   "cell_type": "markdown",
   "metadata": {},
   "source": [
    "As we do not have ONE connected network in _EliteNet_ but several components, we can pay attention to the **Giant Component**:"
   ]
  },
  {
   "cell_type": "code",
   "execution_count": null,
   "metadata": {},
   "outputs": [],
   "source": [
    "sorted_Components = sorted(nx.connected_components(eliNet), key=len, reverse=True)\n",
    "eliNet_giant = eliNet.subgraph(sorted_Components[0])\n",
    "\n",
    "## Let's take a look at the Giant Component:\n",
    "nx.draw(eliNet_giant,with_labels=True)"
   ]
  },
  {
   "cell_type": "markdown",
   "metadata": {},
   "source": [
    "## Basic summary for Networks:\n",
    "\n",
    "- For EliteNet"
   ]
  },
  {
   "cell_type": "code",
   "execution_count": null,
   "metadata": {},
   "outputs": [],
   "source": [
    "# number of edges, and nodes\n",
    "len(eliNet_giant.edges()),len(eliNet_giant.nodes())"
   ]
  },
  {
   "cell_type": "markdown",
   "metadata": {},
   "source": [
    "* For TradeNet"
   ]
  },
  {
   "cell_type": "code",
   "execution_count": null,
   "metadata": {},
   "outputs": [],
   "source": [
    "len(tradeNet.edges()),len(tradeNet.nodes())"
   ]
  },
  {
   "cell_type": "markdown",
   "metadata": {},
   "source": [
    "* For topsNet"
   ]
  },
  {
   "cell_type": "code",
   "execution_count": null,
   "metadata": {},
   "outputs": [],
   "source": [
    "len(topsNet.edges()),len(topsNet.nodes())"
   ]
  },
  {
   "cell_type": "markdown",
   "metadata": {},
   "source": [
    "## Structure Exploration"
   ]
  },
  {
   "cell_type": "markdown",
   "metadata": {},
   "source": [
    "### Density"
   ]
  },
  {
   "cell_type": "markdown",
   "metadata": {},
   "source": [
    "**Density** let us know how far a network is from being 'complete'. The value ranges from 0 to 1, where 1 makes it a 'complete' network.\n",
    "\n",
    "<figure>\n",
    "<img src=\"https://github.com/SocialAnalytics-StrategicIntelligence/SocialNet_analytics/raw/main/picsForSession/density.png\" style=\"width:70%\">\n",
    "<figcaption align = \"center\"> Figure 2. Density. \n",
    " </figcaption>\n",
    " <a href=\"https://medium.com/@jane.vdplas/https-medium-com-protium-digital-what-are-network-effects-4f1ec159b6\">Source: Medium</a>\n",
    "</figure>\n",
    "\n"
   ]
  },
  {
   "cell_type": "markdown",
   "metadata": {},
   "source": [
    "What can we learn from this?"
   ]
  },
  {
   "cell_type": "code",
   "execution_count": null,
   "metadata": {},
   "outputs": [],
   "source": [
    "nx.density(eliNet_giant)"
   ]
  },
  {
   "cell_type": "code",
   "execution_count": null,
   "metadata": {},
   "outputs": [],
   "source": [
    "nx.density(tradeNet)"
   ]
  },
  {
   "cell_type": "code",
   "execution_count": null,
   "metadata": {},
   "outputs": [],
   "source": [
    "nx.density(topsNet)"
   ]
  },
  {
   "cell_type": "markdown",
   "metadata": {},
   "source": [
    "### Distance\n",
    "\n",
    "The **distance** is understood as the count of  _edges_ that sepate two nodes. Since two pair of nodes can have several distances, a **geodesic** is the shortest distance between them. The Figure 3 shows geodesics:\n",
    "\n",
    "<figure>\n",
    "<img src=\"https://github.com/SocialAnalytics-StrategicIntelligence/SocialNet_analytics/raw/main/picsForSession/geodesics.png\" style=\"width:70%\">\n",
    "<figcaption align = \"center\"> Figure 3. Geodesics. \n",
    " </figcaption>\n",
    " <a href=\"https://www.wolframphysics.org/technical-introduction/limiting-behavior-and-emergent-geometry/geodesics/\" class=\"alert-link\">Source: Wolframphysics</a>\n",
    "</figure>\n",
    "\n",
    "These are the geodesics for the _eliNet_giant_:\n"
   ]
  },
  {
   "cell_type": "code",
   "execution_count": null,
   "metadata": {},
   "outputs": [],
   "source": [
    "geodesics = dict(nx.all_pairs_shortest_path_length(eliNet_giant))\n",
    "MatrixGeo = [[geodesics.get(n,{}).get(m)  for m in eliNet_giant.nodes] for n in eliNet_giant.nodes]\n",
    "MatrixGeo_elite=pd.DataFrame(MatrixGeo,index=eliNet_giant.nodes, columns=eliNet_giant.nodes)\n",
    "\n",
    "#here\n",
    "MatrixGeo_elite"
   ]
  },
  {
   "cell_type": "markdown",
   "metadata": {},
   "source": [
    "From the matrix, we can count the frequency of geodesics:"
   ]
  },
  {
   "cell_type": "code",
   "execution_count": null,
   "metadata": {},
   "outputs": [],
   "source": [
    "import numpy as np\n",
    "\n",
    "pd.DataFrame(np.unique(MatrixGeo_elite.values, return_counts=True),index=['geodesic_size','freq']).T.set_index('geodesic_size')"
   ]
  },
  {
   "cell_type": "markdown",
   "metadata": {},
   "source": [
    "The zeros represent the count of pairs (a,a).\n",
    "\n",
    "Let me get the counts for _tradeNet_:"
   ]
  },
  {
   "cell_type": "code",
   "execution_count": null,
   "metadata": {},
   "outputs": [],
   "source": [
    "geodesics = dict(nx.all_pairs_shortest_path_length(tradeNet))\n",
    "MatrixGeo = [[geodesics.get(n,{}).get(m)  for m in tradeNet.nodes] for n in tradeNet.nodes]\n",
    "MatrixGeo_trade=pd.DataFrame(MatrixGeo,index=tradeNet.nodes, columns=tradeNet.nodes)\n",
    "\n",
    "#here\n",
    "pd.DataFrame(np.unique(MatrixGeo_trade.values, return_counts=True),index=['geodesic_size','freq']).T.set_index('geodesic_size')"
   ]
  },
  {
   "cell_type": "markdown",
   "metadata": {},
   "source": [
    "Let me get the counts for _topsNet_:"
   ]
  },
  {
   "cell_type": "code",
   "execution_count": null,
   "metadata": {},
   "outputs": [],
   "source": [
    "geodesics = dict(nx.all_pairs_shortest_path_length(topsNet))\n",
    "MatrixGeo = [[geodesics.get(n,{}).get(m)  for m in topsNet.nodes] for n in topsNet.nodes]\n",
    "MatrixGeo_tops=pd.DataFrame(MatrixGeo,index=topsNet.nodes, columns=topsNet.nodes)\n",
    "\n",
    "#here\n",
    "pd.DataFrame(np.unique(MatrixGeo_tops.values, return_counts=True),index=['geodesic_size','freq']).T.set_index('geodesic_size')"
   ]
  },
  {
   "cell_type": "markdown",
   "metadata": {},
   "source": [
    "Notice the missing geodesics tells there are absences of a paths between several pairs of nodes.\n",
    "\n",
    "A key concept derived for the geodesic size exploration is **the diameter**: the worst case escenario for number of steps for a node to contact another one (only for connected component in undirected nets, or SCC in directed case). This is also known as _maximum eccentricity_. \n",
    "\n",
    "<figure>\n",
    "<img src=\"https://github.com/SocialAnalytics-StrategicIntelligence/SocialNet_analytics/raw/main/picsForSession/diameter.png\" style=\"width:70%\">\n",
    "<figcaption align = \"center\"> Figure 4. Diameter. \n",
    " </figcaption>\n",
    " Source: Author.\n",
    "</figure>\n",
    "\n"
   ]
  },
  {
   "cell_type": "code",
   "execution_count": null,
   "metadata": {},
   "outputs": [],
   "source": [
    "nx.diameter(eliNet_giant)"
   ]
  },
  {
   "cell_type": "code",
   "execution_count": null,
   "metadata": {},
   "outputs": [],
   "source": [
    "nx.diameter(tradeNet)"
   ]
  },
  {
   "cell_type": "code",
   "execution_count": null,
   "metadata": {},
   "outputs": [],
   "source": [
    "# nx.strongly_connected_components gives nodes\n",
    "# sorted /key=len /reverse=True orders components by size\n",
    "# topsNet.subgraph builds the net\n",
    "nx.diameter(topsNet.subgraph(sorted(nx.strongly_connected_components(topsNet), key=len, reverse=True)[0]))"
   ]
  },
  {
   "cell_type": "markdown",
   "metadata": {},
   "source": [
    "**Average shortest path** is the average of every geodesic in the network."
   ]
  },
  {
   "cell_type": "code",
   "execution_count": null,
   "metadata": {},
   "outputs": [],
   "source": [
    "nx.average_shortest_path_length(eliNet_giant)"
   ]
  },
  {
   "cell_type": "code",
   "execution_count": null,
   "metadata": {},
   "outputs": [],
   "source": [
    "nx.average_shortest_path_length(tradeNet)"
   ]
  },
  {
   "cell_type": "code",
   "execution_count": null,
   "metadata": {},
   "outputs": [],
   "source": [
    "# only for the SC-component\n",
    "nx.average_shortest_path_length(topsNet.subgraph(sorted(nx.strongly_connected_components(topsNet), key=len, reverse=True)[0]))"
   ]
  },
  {
   "cell_type": "markdown",
   "metadata": {},
   "source": [
    "A scale-free network is one where most of his nodes have few connections, then we have other structures could be:\n",
    "\n",
    "* **Random networks** have *small shortest path* and *small clustering coefficient*\n",
    "* **Small world networks** have *small shortest path* and *high clustering coefficient*\n",
    "* **Regular networks** have *high shortest path* and *high clustering coefficient*\n",
    "\r",
    "<center><img src=\"https://github.com/EvansDataScience/CTforGA_Networks/raw/main/networkTypes.jpeg\" width=\"500\"></center>"
   ]
  },
  {
   "cell_type": "markdown",
   "metadata": {},
   "source": [
    "### Reachability\n",
    "\n",
    "From the matrix of geodesics we can get the  **reachability matrix**, which tells you if there is a conection between two nodes:"
   ]
  },
  {
   "cell_type": "code",
   "execution_count": null,
   "metadata": {},
   "outputs": [],
   "source": [
    "MatrixReach_elite=(MatrixGeo_elite>0).replace({True:1,False:0})\n",
    "MatrixReach_elite"
   ]
  },
  {
   "cell_type": "markdown",
   "metadata": {},
   "source": [
    "This matrix helps us compute the **connectedness** level:"
   ]
  },
  {
   "cell_type": "code",
   "execution_count": null,
   "metadata": {},
   "outputs": [],
   "source": [
    "nNodes=len(eliNet_giant.nodes)\n",
    "MatrixReach_elite.sum().sum()/(nNodes*(nNodes-1))"
   ]
  },
  {
   "cell_type": "code",
   "execution_count": null,
   "metadata": {},
   "outputs": [],
   "source": [
    "MatrixReach_tops=(MatrixGeo_tops>0).replace({True:1,False:0})\n",
    "\n",
    "nNodes=len(topsNet.nodes)\n",
    "MatrixReach_tops.sum().sum()/(nNodes*(nNodes-1))"
   ]
  },
  {
   "cell_type": "markdown",
   "metadata": {},
   "source": [
    "If we have a directed graph, here _topsNet_, we can compute reciprocity:"
   ]
  },
  {
   "cell_type": "code",
   "execution_count": null,
   "metadata": {},
   "outputs": [],
   "source": [
    "nx.overall_reciprocity(topsNet)"
   ]
  },
  {
   "cell_type": "code",
   "execution_count": null,
   "metadata": {},
   "outputs": [],
   "source": [
    "# by node\n",
    "pd.DataFrame.from_dict(nx.reciprocity(topsNet,nodes=topsNet.nodes),orient='index').sort_values(0,ascending=False)"
   ]
  },
  {
   "cell_type": "markdown",
   "metadata": {},
   "source": [
    "Density y Reachability are related but not synonyms, as we can see in Figure 5.\n",
    "\n",
    "<figure>\n",
    "<img src=\"https://github.com/SocialAnalytics-StrategicIntelligence/SocialNet_analytics/raw/main/picsForSession/reachability-and-density.png\" style=\"width:70%\">\n",
    "<figcaption align = \"center\"> Figura 5. Reachability versus Density. \n",
    " </figcaption>\n",
    " <a href=\"https://www.researchgate.net/publication/42763973_Toward_a_Network_Perspective_of_the_Study_of_Resilience_in_Social-Ecological_Systems\">Fuente: Ecology and Society</a>\n",
    "</figure>"
   ]
  },
  {
   "cell_type": "markdown",
   "metadata": {},
   "source": [
    "## Exploration of network communities"
   ]
  },
  {
   "cell_type": "markdown",
   "metadata": {},
   "source": [
    "* **Average clustering coefficient**: is the average of the local clustering coefficients of the nodes. If all the neighbors of every node are connected among one another, you get 1; if none of them are connected you get zero. \n",
    "\n",
    "<figure>\n",
    "<img src=\"https://github.com/SocialAnalytics-StrategicIntelligence/SocialNet_analytics/raw/main/picsForSession/LocalClustCoeff.png\" style=\"width:70%\">\n",
    "<figcaption align = \"center\"> Figure 6. Average clustering coefficient. \n",
    " </figcaption>\n",
    " <a href=\"https://www.researchgate.net/publication/42763973_Toward_a_Network_Perspective_of_the_Study_of_Resilience_in_Social-Ecological_Systems\">Source: Ecology and Society</a>\n",
    "</figure>\n"
   ]
  },
  {
   "cell_type": "code",
   "execution_count": null,
   "metadata": {},
   "outputs": [],
   "source": [
    "# count_zeros=False -> to make results compatible with R!\n",
    "nx.average_clustering(eliNet_giant,count_zeros=False)"
   ]
  },
  {
   "cell_type": "code",
   "execution_count": null,
   "metadata": {},
   "outputs": [],
   "source": [
    "nx.average_clustering(tradeNet,count_zeros=False)"
   ]
  },
  {
   "cell_type": "code",
   "execution_count": null,
   "metadata": {},
   "outputs": [],
   "source": [
    "nx.average_clustering(topsNet,count_zeros=False)"
   ]
  },
  {
   "cell_type": "markdown",
   "metadata": {},
   "source": [
    "* **Transitivity**: Tendency of local clustering."
   ]
  },
  {
   "cell_type": "code",
   "execution_count": null,
   "metadata": {},
   "outputs": [],
   "source": [
    "# Probability  that two business men with a common business friend, are also friends.\n",
    "nx.transitivity(eliNet_giant)"
   ]
  },
  {
   "cell_type": "code",
   "execution_count": null,
   "metadata": {},
   "outputs": [],
   "source": [
    "# Probability that two countries with a common trade partner, are also partners.\n",
    "\n",
    "nx.transitivity(tradeNet)"
   ]
  },
  {
   "cell_type": "code",
   "execution_count": null,
   "metadata": {},
   "outputs": [],
   "source": [
    "# Probability that two tech guys with a common colleague, are also colleagues.\n",
    "nx.transitivity(topsNet)"
   ]
  },
  {
   "cell_type": "markdown",
   "metadata": {},
   "source": [
    "* **Assortativity (degree)**: it is a measure to see if nodes are connecting to other nodes similar in degree.  Closer to 1 means higher assortativity, closer to -1 diassortativity; while 0 is no assortitivity."
   ]
  },
  {
   "cell_type": "code",
   "execution_count": null,
   "metadata": {},
   "outputs": [],
   "source": [
    "nx.degree_assortativity_coefficient(eliNet_giant)"
   ]
  },
  {
   "cell_type": "code",
   "execution_count": null,
   "metadata": {},
   "outputs": [],
   "source": [
    "nx.degree_assortativity_coefficient(tradeNet)"
   ]
  },
  {
   "cell_type": "code",
   "execution_count": null,
   "metadata": {},
   "outputs": [],
   "source": [
    "nx.degree_assortativity_coefficient(topsNet)"
   ]
  },
  {
   "cell_type": "markdown",
   "metadata": {},
   "source": [
    "You can also compute assortativity using an attribute of interest:"
   ]
  },
  {
   "cell_type": "code",
   "execution_count": null,
   "metadata": {},
   "outputs": [],
   "source": [
    "nx.attribute_assortativity_coefficient(eliNet_giant,'multi') # positive if tend to connect with same nationality."
   ]
  },
  {
   "cell_type": "code",
   "execution_count": null,
   "metadata": {},
   "outputs": [],
   "source": [
    "nx.attribute_assortativity_coefficient(topsNet,'sex') # positive if tend to connect with same sex."
   ]
  },
  {
   "cell_type": "markdown",
   "metadata": {},
   "source": [
    "A **clique** can be understood a community of nodes where all of them are connected to one another.\n",
    "\n",
    "* How many cliques do we have?"
   ]
  },
  {
   "cell_type": "code",
   "execution_count": null,
   "metadata": {},
   "outputs": [],
   "source": [
    "len(list(nx.enumerate_all_cliques(eliNet_giant)))"
   ]
  },
  {
   "cell_type": "code",
   "execution_count": null,
   "metadata": {},
   "outputs": [],
   "source": [
    "all=nx.enumerate_all_cliques(tradeNet)"
   ]
  },
  {
   "cell_type": "code",
   "execution_count": null,
   "metadata": {},
   "outputs": [],
   "source": [
    "all # [a for a in all}"
   ]
  },
  {
   "cell_type": "code",
   "execution_count": null,
   "metadata": {},
   "outputs": [],
   "source": [
    "#len(list(nx.enumerate_all_cliques(topsNet)))\n",
    "len(list(nx.find_cliques_recursive(topsNet)))"
   ]
  },
  {
   "cell_type": "markdown",
   "metadata": {},
   "source": [
    "If a clique in the network can not be bigger is you add another node, then you have a **maximal clique**.\n",
    "\n",
    "<center><img src=\"https://github.com/EvansDataScience/CTforGA_Networks/raw/main/cliqueMaximal.png\" width=\"500\"></center>\n",
    "\n",
    "* How many maximal cliques are there in this network?"
   ]
  },
  {
   "cell_type": "code",
   "execution_count": null,
   "metadata": {},
   "outputs": [],
   "source": [
    "sum(1 for _ in nx.find_cliques(eliNet_giant))"
   ]
  },
  {
   "cell_type": "code",
   "execution_count": null,
   "metadata": {},
   "outputs": [],
   "source": [
    "sum(1 for _ in nx.find_cliques(tradeNet))"
   ]
  },
  {
   "cell_type": "code",
   "execution_count": null,
   "metadata": {},
   "outputs": [],
   "source": [
    "sum(1 for _ in nx.find_cliques(topsNet))"
   ]
  },
  {
   "cell_type": "markdown",
   "metadata": {},
   "source": [
    "This is how you see every maximal clique:"
   ]
  },
  {
   "cell_type": "code",
   "execution_count": null,
   "metadata": {},
   "outputs": [],
   "source": [
    "for a in nx.find_cliques(eliNet_giant):\n",
    "    print (a)"
   ]
  },
  {
   "cell_type": "markdown",
   "metadata": {},
   "source": [
    "You can find the size of the _maximum clique_, largest clique in the graph, like this:"
   ]
  },
  {
   "cell_type": "code",
   "execution_count": null,
   "metadata": {},
   "outputs": [],
   "source": [
    "max(len(c) for c in nx.find_cliques(eliNet_giant))"
   ]
  },
  {
   "cell_type": "code",
   "execution_count": null,
   "metadata": {},
   "outputs": [],
   "source": [
    "max(len(c) for c in nx.find_cliques(tradeNet))"
   ]
  },
  {
   "cell_type": "code",
   "execution_count": null,
   "metadata": {},
   "outputs": [],
   "source": [
    "# max(len(c) for c in nx.find_cliques(topsNet))"
   ]
  },
  {
   "cell_type": "markdown",
   "metadata": {},
   "source": [
    "You can see each maximum clique like this:"
   ]
  },
  {
   "cell_type": "code",
   "execution_count": null,
   "metadata": {},
   "outputs": [],
   "source": [
    "[c for c in nx.find_cliques(eliNet_giant) if len(c) == max(len(c) for c in nx.find_cliques(eliNet_giant))]"
   ]
  },
  {
   "cell_type": "markdown",
   "metadata": {},
   "source": [
    "If a network presents cliques makes you suspect that there can be **communities**.\n",
    "\n",
    "This is a huge field of research, let me me show you one of the algorithms known as the [_Louvain method_](https://perso.uclouvain.be/vincent.blondel/research/louvain.html).\n",
    "\n",
    "This algorithm can be installed using **pip install python-louvain**, and import it using **community**.\n"
   ]
  },
  {
   "cell_type": "code",
   "execution_count": null,
   "metadata": {},
   "outputs": [],
   "source": [
    "import community \n",
    "parts = community.best_partition(eliNet_giant)\n",
    "parts"
   ]
  },
  {
   "cell_type": "markdown",
   "metadata": {},
   "source": [
    "You can add that value as an attribute:"
   ]
  },
  {
   "cell_type": "code",
   "execution_count": null,
   "metadata": {},
   "outputs": [],
   "source": [
    "nx.set_node_attributes(eliNet_giant, parts,'community')"
   ]
  },
  {
   "cell_type": "markdown",
   "metadata": {},
   "source": [
    "Now plot this attribute:"
   ]
  },
  {
   "cell_type": "code",
   "execution_count": null,
   "metadata": {},
   "outputs": [],
   "source": [
    "pos=nx.spring_layout(eliNet_giant, k=0.2) \n",
    "plt.figure(figsize=(8,8))\n",
    "color_map = plt.get_cmap(\"cool\")\n",
    "valuesForColors=[n[1]['community'] for n in eliNet_giant.nodes(data=True)]\n",
    "nx.draw(eliNet_giant,node_color=valuesForColors,cmap=color_map,with_labels=True,edge_color='lightblue')"
   ]
  },
  {
   "cell_type": "markdown",
   "metadata": {},
   "source": [
    "Let's turn our attention to the nodes and their roles in the network."
   ]
  },
  {
   "cell_type": "markdown",
   "metadata": {},
   "source": [
    "<a id='part23'></a>\n",
    "\n",
    "## Exploration of network actors"
   ]
  },
  {
   "cell_type": "code",
   "execution_count": null,
   "metadata": {},
   "outputs": [],
   "source": [
    "# Computing centrality measures:\n",
    "degr=nx.degree_centrality(eliNet_giant)  # based on connections count\n",
    "clos=nx.closeness_centrality(eliNet_giant) # \"speed\" to access the rest\n",
    "betw=nx.betweenness_centrality(eliNet_giant,normalized=True) # \"control flow\" among the network nodes\n",
    "eige=nx.eigenvector_centrality(eliNet_giant) # central nodes connected to well connected nodes "
   ]
  },
  {
   "cell_type": "code",
   "execution_count": null,
   "metadata": {},
   "outputs": [],
   "source": [
    "# what do we have?\n",
    "degr,clos,betw,eige"
   ]
  },
  {
   "cell_type": "markdown",
   "metadata": {},
   "source": [
    "Let's save thosoe dicts as attributes:"
   ]
  },
  {
   "cell_type": "code",
   "execution_count": null,
   "metadata": {},
   "outputs": [],
   "source": [
    "nx.set_node_attributes(eliNet_giant, degr,'degree')\n",
    "nx.set_node_attributes(eliNet_giant, clos,'closeness')\n",
    "nx.set_node_attributes(eliNet_giant, betw,'betweenness')\n",
    "nx.set_node_attributes(eliNet_giant, eige,'eigenvector')"
   ]
  },
  {
   "cell_type": "code",
   "execution_count": null,
   "metadata": {},
   "outputs": [],
   "source": [
    "eliNet_giant.nodes.data()"
   ]
  },
  {
   "cell_type": "code",
   "execution_count": null,
   "metadata": {},
   "outputs": [],
   "source": [
    "[i for i in eliNet_giant.nodes(data=True)]"
   ]
  },
  {
   "cell_type": "code",
   "execution_count": null,
   "metadata": {},
   "outputs": [],
   "source": [
    "import pandas as pd\n",
    "eliteNodes_DF=pd.DataFrame([i[1] for i in eliNet_giant.nodes(data=True)], index=[i[0] for i in eliNet_giant.nodes(data=True)])\n",
    "eliteNodes_DF"
   ]
  },
  {
   "cell_type": "code",
   "execution_count": null,
   "metadata": {},
   "outputs": [],
   "source": [
    "fig, ax = plt.subplots(figsize=(10,10))\n",
    "\n",
    "ax.scatter(eliteNodes_DF.betweenness, eliteNodes_DF.closeness,s=(eliteNodes_DF.degree+1.3)**10,\n",
    "           c=eliteNodes_DF.eigenvector,\n",
    "           cmap=plt.get_cmap('YlOrRd'), alpha=0.6)\n",
    "\n",
    "valsForAnnotate=zip(eliteNodes_DF.index,eliteNodes_DF.betweenness,eliteNodes_DF.closeness)\n",
    "for name,coordX,coordY in valsForAnnotate:\n",
    "    ax.annotate(name, (coordX,coordY),alpha=0.5)\n",
    "    \n",
    "plt.title(\"scatterplot (size for degree of node, color for eigenvalue)\")\n",
    "plt.xlabel(\"betweenness\")\n",
    "plt.ylabel(\"closeness\")\n",
    "plt.show()"
   ]
  },
  {
   "cell_type": "markdown",
   "metadata": {},
   "source": [
    "### Egonet"
   ]
  },
  {
   "cell_type": "markdown",
   "metadata": {},
   "source": [
    "The node with the highest degree could be considered a _hub_ in the network:"
   ]
  },
  {
   "cell_type": "code",
   "execution_count": null,
   "metadata": {},
   "outputs": [],
   "source": [
    "# degr is a dictionary:\n",
    "max(degr.keys(), key=(lambda k: degr[k]))\n",
    "\n",
    "# or you can try:\n",
    "#eliteNodes_DF['degree'].idxmax()"
   ]
  },
  {
   "cell_type": "markdown",
   "metadata": {},
   "source": [
    "We can plot the neighbors of the hub, _its ego network_:"
   ]
  },
  {
   "cell_type": "code",
   "execution_count": null,
   "metadata": {},
   "outputs": [],
   "source": [
    "# Determine the hub name:\n",
    "HubNode=max(degr.keys(), key=(lambda k: degr[k]))\n",
    "\n",
    "# Get ego network of Hub\n",
    "HubEgonet=nx.ego_graph(eliNet_giant,HubNode)\n",
    "\n",
    "# prepare to plot:\n",
    "\n",
    "## positions of the nodes\n",
    "pos=nx.spring_layout(HubEgonet)\n",
    "\n",
    "## plot whole ego network\n",
    "nx.draw(HubEgonet,pos,node_color='b',node_size=800,with_labels=True, alpha=0.5,node_shape='^')\n",
    "\n",
    "## make the hub salient\n",
    "nx.draw_networkx_nodes(HubEgonet,pos,nodelist=[HubNode],node_size=2000,node_color='r')\n",
    "\n",
    "plt.show()"
   ]
  },
  {
   "cell_type": "markdown",
   "metadata": {},
   "source": [
    "### Coonectivity"
   ]
  },
  {
   "cell_type": "markdown",
   "metadata": {},
   "source": [
    "Can this network be disconnected? \n",
    "If so, we can compute the minimum number of nodes that must be removed to disconnect the network (create at least two components:"
   ]
  },
  {
   "cell_type": "code",
   "execution_count": null,
   "metadata": {},
   "outputs": [],
   "source": [
    "nx.node_connectivity(eliNet_giant)"
   ]
  },
  {
   "cell_type": "markdown",
   "metadata": {},
   "source": [
    "Who is the sole node with the power to break the network?"
   ]
  },
  {
   "cell_type": "code",
   "execution_count": null,
   "metadata": {},
   "outputs": [],
   "source": [
    "list(nx.articulation_points(eliNet_giant))"
   ]
  },
  {
   "cell_type": "markdown",
   "metadata": {},
   "source": [
    "We can highlight the articulation node in the giant component:"
   ]
  },
  {
   "cell_type": "code",
   "execution_count": null,
   "metadata": {},
   "outputs": [],
   "source": [
    "# saving the cut point\n",
    "cutPoint=list(nx.articulation_points(eliNet_giant))\n",
    "\n",
    "# positions for all the nodes\n",
    "pos=nx.spring_layout(eliNet_giant,k=0.1)\n",
    "\n",
    "# sizes for nodes\n",
    "SALIENT, NORMAL=(2000,800)\n",
    "\n",
    "# plot all nodes\n",
    "nx.draw(eliNet_giant,pos,node_color='b',node_size=NORMAL,with_labels=True, alpha=0.5,node_shape='^')\n",
    "\n",
    "# make the cut salient:\n",
    "nx.draw_networkx_nodes(eliNet_giant,pos,nodelist=cutPoint,node_size=SALIENT,node_color='r')\n",
    "plt.show()"
   ]
  },
  {
   "cell_type": "code",
   "execution_count": null,
   "metadata": {},
   "outputs": [],
   "source": []
  }
 ],
 "metadata": {
  "hide_input": false,
  "kernelspec": {
   "display_name": "Python 3 (ipykernel)",
   "language": "python",
   "name": "python3"
  },
  "language_info": {
   "codemirror_mode": {
    "name": "ipython",
    "version": 3
   },
   "file_extension": ".py",
   "mimetype": "text/x-python",
   "name": "python",
   "nbconvert_exporter": "python",
   "pygments_lexer": "ipython3",
   "version": "3.11.5"
  }
 },
 "nbformat": 4,
 "nbformat_minor": 4
}
